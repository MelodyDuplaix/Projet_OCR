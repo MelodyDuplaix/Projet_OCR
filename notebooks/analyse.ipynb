{
 "cells": [
  {
   "cell_type": "code",
   "execution_count": 47,
   "metadata": {},
   "outputs": [],
   "source": [
    "import pandas as pd\n",
    "import sys\n",
    "sys.path.append(\"..\")\n",
    "from src.database import execute_query, Facture, Achat, Produit, Client, Log, engine\n",
    "from sqlalchemy.orm import Session\n",
    "from sqlalchemy import create_engine, Column, String, Date, Numeric, DateTime, ForeignKey, func, cast, Integer\n",
    "from sqlalchemy.orm import declarative_base, sessionmaker\n",
    "from dotenv import load_dotenv\n",
    "import os\n",
    "import pandas as pd\n",
    "from sqlalchemy import text\n",
    "SessionLocal = sessionmaker(autocommit=False, autoflush=False, bind=engine)\n",
    "from datetime import datetime\n",
    "import matplotlib.pyplot as plt\n",
    "from mpl_toolkits.mplot3d import Axes3D\n",
    "import plotly.graph_objects as go\n",
    "import numpy as np\n",
    "from sklearn.cluster import KMeans\n",
    "from sklearn.preprocessing import StandardScaler\n",
    "import pandas as pd"
   ]
  },
  {
   "cell_type": "markdown",
   "metadata": {},
   "source": [
    "# Explorations des données"
   ]
  },
  {
   "cell_type": "code",
   "execution_count": 48,
   "metadata": {},
   "outputs": [
    {
     "data": {
      "text/html": [
       "<div>\n",
       "<style scoped>\n",
       "    .dataframe tbody tr th:only-of-type {\n",
       "        vertical-align: middle;\n",
       "    }\n",
       "\n",
       "    .dataframe tbody tr th {\n",
       "        vertical-align: top;\n",
       "    }\n",
       "\n",
       "    .dataframe thead th {\n",
       "        text-align: right;\n",
       "    }\n",
       "</style>\n",
       "<table border=\"1\" class=\"dataframe\">\n",
       "  <thead>\n",
       "    <tr style=\"text-align: right;\">\n",
       "      <th></th>\n",
       "      <th>count</th>\n",
       "    </tr>\n",
       "  </thead>\n",
       "  <tbody>\n",
       "    <tr>\n",
       "      <th>0</th>\n",
       "      <td>927</td>\n",
       "    </tr>\n",
       "  </tbody>\n",
       "</table>\n",
       "</div>"
      ],
      "text/plain": [
       "   count\n",
       "0    927"
      ]
     },
     "execution_count": 48,
     "metadata": {},
     "output_type": "execute_result"
    }
   ],
   "source": [
    "execute_query(\"SELECT COUNT(*) FROM melody.client\")"
   ]
  },
  {
   "cell_type": "code",
   "execution_count": 49,
   "metadata": {},
   "outputs": [
    {
     "data": {
      "text/html": [
       "<div>\n",
       "<style scoped>\n",
       "    .dataframe tbody tr th:only-of-type {\n",
       "        vertical-align: middle;\n",
       "    }\n",
       "\n",
       "    .dataframe tbody tr th {\n",
       "        vertical-align: top;\n",
       "    }\n",
       "\n",
       "    .dataframe thead th {\n",
       "        text-align: right;\n",
       "    }\n",
       "</style>\n",
       "<table border=\"1\" class=\"dataframe\">\n",
       "  <thead>\n",
       "    <tr style=\"text-align: right;\">\n",
       "      <th></th>\n",
       "      <th>count</th>\n",
       "    </tr>\n",
       "  </thead>\n",
       "  <tbody>\n",
       "    <tr>\n",
       "      <th>0</th>\n",
       "      <td>2004</td>\n",
       "    </tr>\n",
       "  </tbody>\n",
       "</table>\n",
       "</div>"
      ],
      "text/plain": [
       "   count\n",
       "0   2004"
      ]
     },
     "execution_count": 49,
     "metadata": {},
     "output_type": "execute_result"
    }
   ],
   "source": [
    "execute_query(\"SELECT COUNT(*) FROM melody.achat\")"
   ]
  },
  {
   "cell_type": "code",
   "execution_count": 50,
   "metadata": {},
   "outputs": [
    {
     "data": {
      "text/html": [
       "<div>\n",
       "<style scoped>\n",
       "    .dataframe tbody tr th:only-of-type {\n",
       "        vertical-align: middle;\n",
       "    }\n",
       "\n",
       "    .dataframe tbody tr th {\n",
       "        vertical-align: top;\n",
       "    }\n",
       "\n",
       "    .dataframe thead th {\n",
       "        text-align: right;\n",
       "    }\n",
       "</style>\n",
       "<table border=\"1\" class=\"dataframe\">\n",
       "  <thead>\n",
       "    <tr style=\"text-align: right;\">\n",
       "      <th></th>\n",
       "      <th>count</th>\n",
       "    </tr>\n",
       "  </thead>\n",
       "  <tbody>\n",
       "    <tr>\n",
       "      <th>0</th>\n",
       "      <td>5096</td>\n",
       "    </tr>\n",
       "  </tbody>\n",
       "</table>\n",
       "</div>"
      ],
      "text/plain": [
       "   count\n",
       "0   5096"
      ]
     },
     "execution_count": 50,
     "metadata": {},
     "output_type": "execute_result"
    }
   ],
   "source": [
    "execute_query(\"SELECT COUNT(*) FROM melody.facture\")"
   ]
  },
  {
   "cell_type": "code",
   "execution_count": 51,
   "metadata": {},
   "outputs": [
    {
     "data": {
      "text/html": [
       "<div>\n",
       "<style scoped>\n",
       "    .dataframe tbody tr th:only-of-type {\n",
       "        vertical-align: middle;\n",
       "    }\n",
       "\n",
       "    .dataframe tbody tr th {\n",
       "        vertical-align: top;\n",
       "    }\n",
       "\n",
       "    .dataframe thead th {\n",
       "        text-align: right;\n",
       "    }\n",
       "</style>\n",
       "<table border=\"1\" class=\"dataframe\">\n",
       "  <thead>\n",
       "    <tr style=\"text-align: right;\">\n",
       "      <th></th>\n",
       "      <th>count</th>\n",
       "    </tr>\n",
       "  </thead>\n",
       "  <tbody>\n",
       "    <tr>\n",
       "      <th>0</th>\n",
       "      <td>2004</td>\n",
       "    </tr>\n",
       "  </tbody>\n",
       "</table>\n",
       "</div>"
      ],
      "text/plain": [
       "   count\n",
       "0   2004"
      ]
     },
     "execution_count": 51,
     "metadata": {},
     "output_type": "execute_result"
    }
   ],
   "source": [
    "execute_query(\"SELECT COUNT(*) FROM melody.produit\")"
   ]
  },
  {
   "cell_type": "code",
   "execution_count": 52,
   "metadata": {},
   "outputs": [
    {
     "data": {
      "text/html": [
       "<div>\n",
       "<style scoped>\n",
       "    .dataframe tbody tr th:only-of-type {\n",
       "        vertical-align: middle;\n",
       "    }\n",
       "\n",
       "    .dataframe tbody tr th {\n",
       "        vertical-align: top;\n",
       "    }\n",
       "\n",
       "    .dataframe thead th {\n",
       "        text-align: right;\n",
       "    }\n",
       "</style>\n",
       "<table border=\"1\" class=\"dataframe\">\n",
       "  <thead>\n",
       "    <tr style=\"text-align: right;\">\n",
       "      <th></th>\n",
       "      <th>id_produit</th>\n",
       "      <th>nom</th>\n",
       "      <th>prix</th>\n",
       "    </tr>\n",
       "  </thead>\n",
       "  <tbody>\n",
       "    <tr>\n",
       "      <th>0</th>\n",
       "      <td>PROD_edge_so_crime</td>\n",
       "      <td>edge so crime share.</td>\n",
       "      <td>12.18</td>\n",
       "    </tr>\n",
       "    <tr>\n",
       "      <th>1</th>\n",
       "      <td>PROD_thank_do_article</td>\n",
       "      <td>thank do article especially.</td>\n",
       "      <td>67.86</td>\n",
       "    </tr>\n",
       "    <tr>\n",
       "      <th>2</th>\n",
       "      <td>PROD_include_dinner_main</td>\n",
       "      <td>include dinner main friend.</td>\n",
       "      <td>287.99</td>\n",
       "    </tr>\n",
       "    <tr>\n",
       "      <th>3</th>\n",
       "      <td>PROD_capital_hear_morning</td>\n",
       "      <td>capital hear morning people.</td>\n",
       "      <td>55.43</td>\n",
       "    </tr>\n",
       "    <tr>\n",
       "      <th>4</th>\n",
       "      <td>PROD_between_everybody_size</td>\n",
       "      <td>between everybody size conference.</td>\n",
       "      <td>45.70</td>\n",
       "    </tr>\n",
       "    <tr>\n",
       "      <th>...</th>\n",
       "      <td>...</td>\n",
       "      <td>...</td>\n",
       "      <td>...</td>\n",
       "    </tr>\n",
       "    <tr>\n",
       "      <th>1999</th>\n",
       "      <td>PROD_ltem_put_suffer</td>\n",
       "      <td>ltem put suffer none.</td>\n",
       "      <td>139.96</td>\n",
       "    </tr>\n",
       "    <tr>\n",
       "      <th>2000</th>\n",
       "      <td>PROD_yourself_network_product</td>\n",
       "      <td>yourself network product sister.</td>\n",
       "      <td>43.08</td>\n",
       "    </tr>\n",
       "    <tr>\n",
       "      <th>2001</th>\n",
       "      <td>PROD_chair_after_standard</td>\n",
       "      <td>chair after standard see.</td>\n",
       "      <td>4.23</td>\n",
       "    </tr>\n",
       "    <tr>\n",
       "      <th>2002</th>\n",
       "      <td>PROD_other_season_whose</td>\n",
       "      <td>other season whose who.</td>\n",
       "      <td>58.50</td>\n",
       "    </tr>\n",
       "    <tr>\n",
       "      <th>2003</th>\n",
       "      <td>PROD_maitter_certainly_factor</td>\n",
       "      <td>maitter certainly factor also.</td>\n",
       "      <td>0.10</td>\n",
       "    </tr>\n",
       "  </tbody>\n",
       "</table>\n",
       "<p>2004 rows × 3 columns</p>\n",
       "</div>"
      ],
      "text/plain": [
       "                         id_produit                                 nom  \\\n",
       "0                PROD_edge_so_crime                edge so crime share.   \n",
       "1             PROD_thank_do_article        thank do article especially.   \n",
       "2          PROD_include_dinner_main         include dinner main friend.   \n",
       "3         PROD_capital_hear_morning        capital hear morning people.   \n",
       "4       PROD_between_everybody_size  between everybody size conference.   \n",
       "...                             ...                                 ...   \n",
       "1999           PROD_ltem_put_suffer               ltem put suffer none.   \n",
       "2000  PROD_yourself_network_product    yourself network product sister.   \n",
       "2001      PROD_chair_after_standard           chair after standard see.   \n",
       "2002        PROD_other_season_whose             other season whose who.   \n",
       "2003  PROD_maitter_certainly_factor      maitter certainly factor also.   \n",
       "\n",
       "        prix  \n",
       "0      12.18  \n",
       "1      67.86  \n",
       "2     287.99  \n",
       "3      55.43  \n",
       "4      45.70  \n",
       "...      ...  \n",
       "1999  139.96  \n",
       "2000   43.08  \n",
       "2001    4.23  \n",
       "2002   58.50  \n",
       "2003    0.10  \n",
       "\n",
       "[2004 rows x 3 columns]"
      ]
     },
     "execution_count": 52,
     "metadata": {},
     "output_type": "execute_result"
    }
   ],
   "source": [
    "execute_query(\"SELECT * FROM melody.produit\")"
   ]
  },
  {
   "cell_type": "code",
   "execution_count": 53,
   "metadata": {},
   "outputs": [
    {
     "data": {
      "text/html": [
       "<div>\n",
       "<style scoped>\n",
       "    .dataframe tbody tr th:only-of-type {\n",
       "        vertical-align: middle;\n",
       "    }\n",
       "\n",
       "    .dataframe tbody tr th {\n",
       "        vertical-align: top;\n",
       "    }\n",
       "\n",
       "    .dataframe thead th {\n",
       "        text-align: right;\n",
       "    }\n",
       "</style>\n",
       "<table border=\"1\" class=\"dataframe\">\n",
       "  <thead>\n",
       "    <tr style=\"text-align: right;\">\n",
       "      <th></th>\n",
       "      <th>id_client</th>\n",
       "      <th>nom</th>\n",
       "      <th>mail</th>\n",
       "      <th>adresse</th>\n",
       "      <th>birthdate</th>\n",
       "      <th>genre</th>\n",
       "    </tr>\n",
       "  </thead>\n",
       "  <tbody>\n",
       "    <tr>\n",
       "      <th>0</th>\n",
       "      <td>CLT_Carol_Potter</td>\n",
       "      <td>Carol Potter</td>\n",
       "      <td>ashley38@example.org</td>\n",
       "      <td>405 Adrian Crest Suite 095  Jamesstad, MM 36094</td>\n",
       "      <td>2000-02-16</td>\n",
       "      <td>F</td>\n",
       "    </tr>\n",
       "    <tr>\n",
       "      <th>1</th>\n",
       "      <td>CLT_Samuel_Coleman</td>\n",
       "      <td>Samuel Coleman</td>\n",
       "      <td>qmeyer@example.com</td>\n",
       "      <td>64623 Wright Mills  Turnermouth, K5 45555</td>\n",
       "      <td>1999-11-03</td>\n",
       "      <td>F</td>\n",
       "    </tr>\n",
       "    <tr>\n",
       "      <th>2</th>\n",
       "      <td>CLT_Richard_Dunn</td>\n",
       "      <td>Richard Dunn</td>\n",
       "      <td>phughes@exampie.com</td>\n",
       "      <td>3305 Maureen Manors  West Daniel NY 27137</td>\n",
       "      <td>1989-04-24</td>\n",
       "      <td>M</td>\n",
       "    </tr>\n",
       "    <tr>\n",
       "      <th>3</th>\n",
       "      <td>CLT_Mario_Stout</td>\n",
       "      <td>Mario Stout</td>\n",
       "      <td>danielledaniels@example.org</td>\n",
       "      <td>48010 Margaret Passage Suite 093 Walshshire, I...</td>\n",
       "      <td>1999-03-26</td>\n",
       "      <td>F</td>\n",
       "    </tr>\n",
       "    <tr>\n",
       "      <th>4</th>\n",
       "      <td>CLT_Rachel_Ramirez</td>\n",
       "      <td>Rachel Ramirez</td>\n",
       "      <td>patriciakelley@exampile.org</td>\n",
       "      <td>7896 Jones Underpass  Kennethborough, CT 89365</td>\n",
       "      <td>1989-05-20</td>\n",
       "      <td>M</td>\n",
       "    </tr>\n",
       "    <tr>\n",
       "      <th>...</th>\n",
       "      <td>...</td>\n",
       "      <td>...</td>\n",
       "      <td>...</td>\n",
       "      <td>...</td>\n",
       "      <td>...</td>\n",
       "      <td>...</td>\n",
       "    </tr>\n",
       "    <tr>\n",
       "      <th>922</th>\n",
       "      <td>CLT_Vanessa_Johnston</td>\n",
       "      <td>Vanessa Johnston</td>\n",
       "      <td>thomas10@example.com</td>\n",
       "      <td>7282 Gordon Shores Apt. 799 Humphreytawn, TN 4...</td>\n",
       "      <td>1999-07-07</td>\n",
       "      <td>F</td>\n",
       "    </tr>\n",
       "    <tr>\n",
       "      <th>923</th>\n",
       "      <td>CLT_Monique_Williams</td>\n",
       "      <td>Monique Williams</td>\n",
       "      <td>ericcarpenter@example.com</td>\n",
       "      <td>Unit 8792 Box 5104  DPO AA 20809</td>\n",
       "      <td>1989-11-07</td>\n",
       "      <td>F</td>\n",
       "    </tr>\n",
       "    <tr>\n",
       "      <th>924</th>\n",
       "      <td>CLT_Bradley_Ramsey</td>\n",
       "      <td>Bradley Ramsey</td>\n",
       "      <td>kimberly32@example.org</td>\n",
       "      <td>PSC 3042, Box 2314  APO AA 35572</td>\n",
       "      <td>1989-11-17</td>\n",
       "      <td>M</td>\n",
       "    </tr>\n",
       "    <tr>\n",
       "      <th>925</th>\n",
       "      <td>CLT_Megan_Blanchard</td>\n",
       "      <td>Megan Blanchard</td>\n",
       "      <td>janetpena@example.net</td>\n",
       "      <td>847 Doris Manors  West Marissamouth, OK 20416</td>\n",
       "      <td>1989-10-22</td>\n",
       "      <td>F</td>\n",
       "    </tr>\n",
       "    <tr>\n",
       "      <th>926</th>\n",
       "      <td>CLT_Briana_Ortiz</td>\n",
       "      <td>Briana Ortiz</td>\n",
       "      <td>deannajohnson@example.com</td>\n",
       "      <td>96831 Ford Brook Apt. 303  Port Robinstad, KY ...</td>\n",
       "      <td>1989-05-15</td>\n",
       "      <td>M</td>\n",
       "    </tr>\n",
       "  </tbody>\n",
       "</table>\n",
       "<p>927 rows × 6 columns</p>\n",
       "</div>"
      ],
      "text/plain": [
       "                id_client               nom                         mail  \\\n",
       "0        CLT_Carol_Potter      Carol Potter         ashley38@example.org   \n",
       "1      CLT_Samuel_Coleman    Samuel Coleman           qmeyer@example.com   \n",
       "2        CLT_Richard_Dunn      Richard Dunn          phughes@exampie.com   \n",
       "3         CLT_Mario_Stout       Mario Stout  danielledaniels@example.org   \n",
       "4      CLT_Rachel_Ramirez    Rachel Ramirez  patriciakelley@exampile.org   \n",
       "..                    ...               ...                          ...   \n",
       "922  CLT_Vanessa_Johnston  Vanessa Johnston         thomas10@example.com   \n",
       "923  CLT_Monique_Williams  Monique Williams    ericcarpenter@example.com   \n",
       "924    CLT_Bradley_Ramsey    Bradley Ramsey       kimberly32@example.org   \n",
       "925   CLT_Megan_Blanchard   Megan Blanchard        janetpena@example.net   \n",
       "926      CLT_Briana_Ortiz      Briana Ortiz    deannajohnson@example.com   \n",
       "\n",
       "                                               adresse   birthdate genre  \n",
       "0      405 Adrian Crest Suite 095  Jamesstad, MM 36094  2000-02-16     F  \n",
       "1            64623 Wright Mills  Turnermouth, K5 45555  1999-11-03     F  \n",
       "2            3305 Maureen Manors  West Daniel NY 27137  1989-04-24     M  \n",
       "3    48010 Margaret Passage Suite 093 Walshshire, I...  1999-03-26     F  \n",
       "4       7896 Jones Underpass  Kennethborough, CT 89365  1989-05-20     M  \n",
       "..                                                 ...         ...   ...  \n",
       "922  7282 Gordon Shores Apt. 799 Humphreytawn, TN 4...  1999-07-07     F  \n",
       "923                   Unit 8792 Box 5104  DPO AA 20809  1989-11-07     F  \n",
       "924                   PSC 3042, Box 2314  APO AA 35572  1989-11-17     M  \n",
       "925      847 Doris Manors  West Marissamouth, OK 20416  1989-10-22     F  \n",
       "926  96831 Ford Brook Apt. 303  Port Robinstad, KY ...  1989-05-15     M  \n",
       "\n",
       "[927 rows x 6 columns]"
      ]
     },
     "execution_count": 53,
     "metadata": {},
     "output_type": "execute_result"
    }
   ],
   "source": [
    "execute_query(\"SELECT * FROM melody.client\")"
   ]
  },
  {
   "cell_type": "code",
   "execution_count": 54,
   "metadata": {},
   "outputs": [
    {
     "data": {
      "text/html": [
       "<div>\n",
       "<style scoped>\n",
       "    .dataframe tbody tr th:only-of-type {\n",
       "        vertical-align: middle;\n",
       "    }\n",
       "\n",
       "    .dataframe tbody tr th {\n",
       "        vertical-align: top;\n",
       "    }\n",
       "\n",
       "    .dataframe thead th {\n",
       "        text-align: right;\n",
       "    }\n",
       "</style>\n",
       "<table border=\"1\" class=\"dataframe\">\n",
       "  <thead>\n",
       "    <tr style=\"text-align: right;\">\n",
       "      <th></th>\n",
       "      <th>id_facture</th>\n",
       "      <th>texte</th>\n",
       "      <th>date_facturation</th>\n",
       "      <th>total</th>\n",
       "    </tr>\n",
       "  </thead>\n",
       "  <tbody>\n",
       "    <tr>\n",
       "      <th>0</th>\n",
       "      <td>2018-0001</td>\n",
       "      <td>Edge so crime share.\\n\\nThank do article espec...</td>\n",
       "      <td>2018-10-13 03:27:00</td>\n",
       "      <td>1146.84</td>\n",
       "    </tr>\n",
       "    <tr>\n",
       "      <th>1</th>\n",
       "      <td>2018-0002</td>\n",
       "      <td>Between everybody size conference.\\nTOTAL 4 x ...</td>\n",
       "      <td>2018-10-17 13:37:00</td>\n",
       "      <td>182.8</td>\n",
       "    </tr>\n",
       "    <tr>\n",
       "      <th>2</th>\n",
       "      <td>2018-0003</td>\n",
       "      <td>Item model true sell.\\n\\nGuess want sound site...</td>\n",
       "      <td>2018-11-03 23:58:00</td>\n",
       "      <td>152.98</td>\n",
       "    </tr>\n",
       "    <tr>\n",
       "      <th>3</th>\n",
       "      <td>2018-0004</td>\n",
       "      <td>War commercial dream even.\\nThing speech fire ...</td>\n",
       "      <td>2018-11-14 18:10:00</td>\n",
       "      <td>292.16</td>\n",
       "    </tr>\n",
       "    <tr>\n",
       "      <th>4</th>\n",
       "      <td>2018-0005</td>\n",
       "      <td>Visit money record ability.\\nTOTAL 1 x 74.84 E...</td>\n",
       "      <td>2018-11-17 18:13:00</td>\n",
       "      <td>74.84</td>\n",
       "    </tr>\n",
       "    <tr>\n",
       "      <th>...</th>\n",
       "      <td>...</td>\n",
       "      <td>...</td>\n",
       "      <td>...</td>\n",
       "      <td>...</td>\n",
       "    </tr>\n",
       "    <tr>\n",
       "      <th>5091</th>\n",
       "      <td>2024-0839</td>\n",
       "      <td>Level fall son PM.\\nTOTAL 2x 63.34 Euro\\n126.6...</td>\n",
       "      <td>2024-12-29 22:15:00</td>\n",
       "      <td>126.68</td>\n",
       "    </tr>\n",
       "    <tr>\n",
       "      <th>5092</th>\n",
       "      <td>2024-0840</td>\n",
       "      <td>Bring which air short.\\n\\nPainting admit how m...</td>\n",
       "      <td>2024-12-30 11:06:00</td>\n",
       "      <td>193.78</td>\n",
       "    </tr>\n",
       "    <tr>\n",
       "      <th>5093</th>\n",
       "      <td>2024-0841</td>\n",
       "      <td>Foot develop with since.\\nTOTAL 4 x 27.27 Euro...</td>\n",
       "      <td>2024-12-31 11:57:00</td>\n",
       "      <td>109.08</td>\n",
       "    </tr>\n",
       "    <tr>\n",
       "      <th>5094</th>\n",
       "      <td>2024-0842</td>\n",
       "      <td>Up something clearly everybody.\\nCentury quali...</td>\n",
       "      <td>2024-12-31 16:01:00</td>\n",
       "      <td>1104.84</td>\n",
       "    </tr>\n",
       "    <tr>\n",
       "      <th>5095</th>\n",
       "      <td>2024-0843</td>\n",
       "      <td>Air million able memory.\\nTOTAL 1 x 333.65 Eur...</td>\n",
       "      <td>2024-12-31 17:42:00</td>\n",
       "      <td>333.65</td>\n",
       "    </tr>\n",
       "  </tbody>\n",
       "</table>\n",
       "<p>5096 rows × 4 columns</p>\n",
       "</div>"
      ],
      "text/plain": [
       "     id_facture                                              texte  \\\n",
       "0     2018-0001  Edge so crime share.\\n\\nThank do article espec...   \n",
       "1     2018-0002  Between everybody size conference.\\nTOTAL 4 x ...   \n",
       "2     2018-0003  Item model true sell.\\n\\nGuess want sound site...   \n",
       "3     2018-0004  War commercial dream even.\\nThing speech fire ...   \n",
       "4     2018-0005  Visit money record ability.\\nTOTAL 1 x 74.84 E...   \n",
       "...         ...                                                ...   \n",
       "5091  2024-0839  Level fall son PM.\\nTOTAL 2x 63.34 Euro\\n126.6...   \n",
       "5092  2024-0840  Bring which air short.\\n\\nPainting admit how m...   \n",
       "5093  2024-0841  Foot develop with since.\\nTOTAL 4 x 27.27 Euro...   \n",
       "5094  2024-0842  Up something clearly everybody.\\nCentury quali...   \n",
       "5095  2024-0843  Air million able memory.\\nTOTAL 1 x 333.65 Eur...   \n",
       "\n",
       "        date_facturation    total  \n",
       "0    2018-10-13 03:27:00  1146.84  \n",
       "1    2018-10-17 13:37:00    182.8  \n",
       "2    2018-11-03 23:58:00   152.98  \n",
       "3    2018-11-14 18:10:00   292.16  \n",
       "4    2018-11-17 18:13:00    74.84  \n",
       "...                  ...      ...  \n",
       "5091 2024-12-29 22:15:00   126.68  \n",
       "5092 2024-12-30 11:06:00   193.78  \n",
       "5093 2024-12-31 11:57:00   109.08  \n",
       "5094 2024-12-31 16:01:00  1104.84  \n",
       "5095 2024-12-31 17:42:00   333.65  \n",
       "\n",
       "[5096 rows x 4 columns]"
      ]
     },
     "execution_count": 54,
     "metadata": {},
     "output_type": "execute_result"
    }
   ],
   "source": [
    "execute_query(\"SELECT * FROM melody.facture\")"
   ]
  },
  {
   "cell_type": "code",
   "execution_count": 55,
   "metadata": {},
   "outputs": [
    {
     "data": {
      "text/html": [
       "<div>\n",
       "<style scoped>\n",
       "    .dataframe tbody tr th:only-of-type {\n",
       "        vertical-align: middle;\n",
       "    }\n",
       "\n",
       "    .dataframe tbody tr th {\n",
       "        vertical-align: top;\n",
       "    }\n",
       "\n",
       "    .dataframe thead th {\n",
       "        text-align: right;\n",
       "    }\n",
       "</style>\n",
       "<table border=\"1\" class=\"dataframe\">\n",
       "  <thead>\n",
       "    <tr style=\"text-align: right;\">\n",
       "      <th></th>\n",
       "      <th>id_produit</th>\n",
       "      <th>id_client</th>\n",
       "      <th>id_facture</th>\n",
       "      <th>quantité</th>\n",
       "    </tr>\n",
       "  </thead>\n",
       "  <tbody>\n",
       "    <tr>\n",
       "      <th>0</th>\n",
       "      <td>PROD_edge_so_crime</td>\n",
       "      <td>CLT_Carol_Potter</td>\n",
       "      <td>2018-0001</td>\n",
       "      <td>4.00</td>\n",
       "    </tr>\n",
       "    <tr>\n",
       "      <th>1</th>\n",
       "      <td>PROD_thank_do_article</td>\n",
       "      <td>CLT_Carol_Potter</td>\n",
       "      <td>2018-0001</td>\n",
       "      <td>1.00</td>\n",
       "    </tr>\n",
       "    <tr>\n",
       "      <th>2</th>\n",
       "      <td>PROD_include_dinner_main</td>\n",
       "      <td>CLT_Carol_Potter</td>\n",
       "      <td>2018-0001</td>\n",
       "      <td>3.00</td>\n",
       "    </tr>\n",
       "    <tr>\n",
       "      <th>3</th>\n",
       "      <td>PROD_capital_hear_morning</td>\n",
       "      <td>CLT_Carol_Potter</td>\n",
       "      <td>2018-0001</td>\n",
       "      <td>3.00</td>\n",
       "    </tr>\n",
       "    <tr>\n",
       "      <th>4</th>\n",
       "      <td>PROD_between_everybody_size</td>\n",
       "      <td>CLT_Samuel_Coleman</td>\n",
       "      <td>2018-0002</td>\n",
       "      <td>4.00</td>\n",
       "    </tr>\n",
       "    <tr>\n",
       "      <th>...</th>\n",
       "      <td>...</td>\n",
       "      <td>...</td>\n",
       "      <td>...</td>\n",
       "      <td>...</td>\n",
       "    </tr>\n",
       "    <tr>\n",
       "      <th>1999</th>\n",
       "      <td>PROD_ltem_put_suffer</td>\n",
       "      <td>CLT_Mark_Miranda</td>\n",
       "      <td>2023-0296</td>\n",
       "      <td>2.00</td>\n",
       "    </tr>\n",
       "    <tr>\n",
       "      <th>2000</th>\n",
       "      <td>PROD_yourself_network_product</td>\n",
       "      <td>CLT_Joshua_Robinson</td>\n",
       "      <td>2023-0462</td>\n",
       "      <td>3.00</td>\n",
       "    </tr>\n",
       "    <tr>\n",
       "      <th>2001</th>\n",
       "      <td>PROD_chair_after_standard</td>\n",
       "      <td>CLT_David_Hughes</td>\n",
       "      <td>2023-0577</td>\n",
       "      <td>2.00</td>\n",
       "    </tr>\n",
       "    <tr>\n",
       "      <th>2002</th>\n",
       "      <td>PROD_other_season_whose</td>\n",
       "      <td>CLT_Ray_Knapp</td>\n",
       "      <td>2024-0295</td>\n",
       "      <td>1.00</td>\n",
       "    </tr>\n",
       "    <tr>\n",
       "      <th>2003</th>\n",
       "      <td>PROD_maitter_certainly_factor</td>\n",
       "      <td>CLT_Chad_Hubbard</td>\n",
       "      <td>2024-0391</td>\n",
       "      <td>3.00</td>\n",
       "    </tr>\n",
       "  </tbody>\n",
       "</table>\n",
       "<p>2004 rows × 4 columns</p>\n",
       "</div>"
      ],
      "text/plain": [
       "                         id_produit            id_client id_facture quantité\n",
       "0                PROD_edge_so_crime     CLT_Carol_Potter  2018-0001     4.00\n",
       "1             PROD_thank_do_article     CLT_Carol_Potter  2018-0001     1.00\n",
       "2          PROD_include_dinner_main     CLT_Carol_Potter  2018-0001     3.00\n",
       "3         PROD_capital_hear_morning     CLT_Carol_Potter  2018-0001     3.00\n",
       "4       PROD_between_everybody_size   CLT_Samuel_Coleman  2018-0002     4.00\n",
       "...                             ...                  ...        ...      ...\n",
       "1999           PROD_ltem_put_suffer     CLT_Mark_Miranda  2023-0296     2.00\n",
       "2000  PROD_yourself_network_product  CLT_Joshua_Robinson  2023-0462     3.00\n",
       "2001      PROD_chair_after_standard     CLT_David_Hughes  2023-0577     2.00\n",
       "2002        PROD_other_season_whose        CLT_Ray_Knapp  2024-0295     1.00\n",
       "2003  PROD_maitter_certainly_factor     CLT_Chad_Hubbard  2024-0391     3.00\n",
       "\n",
       "[2004 rows x 4 columns]"
      ]
     },
     "execution_count": 55,
     "metadata": {},
     "output_type": "execute_result"
    }
   ],
   "source": [
    "execute_query(\"SELECT * FROM melody.achat\")"
   ]
  },
  {
   "cell_type": "markdown",
   "metadata": {},
   "source": [
    "# Récupération des données pour la segmentation rfm"
   ]
  },
  {
   "cell_type": "markdown",
   "metadata": {},
   "source": [
    "## Récupération montant"
   ]
  },
  {
   "cell_type": "code",
   "execution_count": 56,
   "metadata": {},
   "outputs": [
    {
     "data": {
      "text/html": [
       "<div>\n",
       "<style scoped>\n",
       "    .dataframe tbody tr th:only-of-type {\n",
       "        vertical-align: middle;\n",
       "    }\n",
       "\n",
       "    .dataframe tbody tr th {\n",
       "        vertical-align: top;\n",
       "    }\n",
       "\n",
       "    .dataframe thead th {\n",
       "        text-align: right;\n",
       "    }\n",
       "</style>\n",
       "<table border=\"1\" class=\"dataframe\">\n",
       "  <thead>\n",
       "    <tr style=\"text-align: right;\">\n",
       "      <th></th>\n",
       "      <th>id_client</th>\n",
       "      <th>sum</th>\n",
       "    </tr>\n",
       "  </thead>\n",
       "  <tbody>\n",
       "    <tr>\n",
       "      <th>0</th>\n",
       "      <td>CLT_James_Nguyen</td>\n",
       "      <td>960.10</td>\n",
       "    </tr>\n",
       "    <tr>\n",
       "      <th>1</th>\n",
       "      <td>CLT_Jacob_Smith</td>\n",
       "      <td>2496.06</td>\n",
       "    </tr>\n",
       "    <tr>\n",
       "      <th>2</th>\n",
       "      <td>CLT_Mrs._Erin_Ramos</td>\n",
       "      <td>318.55</td>\n",
       "    </tr>\n",
       "    <tr>\n",
       "      <th>3</th>\n",
       "      <td>CLT_Thomas_Chung</td>\n",
       "      <td>6906.0</td>\n",
       "    </tr>\n",
       "    <tr>\n",
       "      <th>4</th>\n",
       "      <td>CLT_Amy_Velez</td>\n",
       "      <td>512.2</td>\n",
       "    </tr>\n",
       "    <tr>\n",
       "      <th>...</th>\n",
       "      <td>...</td>\n",
       "      <td>...</td>\n",
       "    </tr>\n",
       "    <tr>\n",
       "      <th>1178</th>\n",
       "      <td>CLT_Elizabeth_Hooper</td>\n",
       "      <td>562.28</td>\n",
       "    </tr>\n",
       "    <tr>\n",
       "      <th>1179</th>\n",
       "      <td>CLT_Michael_Jones</td>\n",
       "      <td>1184.68</td>\n",
       "    </tr>\n",
       "    <tr>\n",
       "      <th>1180</th>\n",
       "      <td>CLT_Marcus_Taylor</td>\n",
       "      <td>688.06</td>\n",
       "    </tr>\n",
       "    <tr>\n",
       "      <th>1181</th>\n",
       "      <td>CLT_David_Gonzalez</td>\n",
       "      <td>6452.73</td>\n",
       "    </tr>\n",
       "    <tr>\n",
       "      <th>1182</th>\n",
       "      <td>CLT_Matthew_Young</td>\n",
       "      <td>331.23</td>\n",
       "    </tr>\n",
       "  </tbody>\n",
       "</table>\n",
       "<p>1183 rows × 2 columns</p>\n",
       "</div>"
      ],
      "text/plain": [
       "                 id_client      sum\n",
       "0         CLT_James_Nguyen   960.10\n",
       "1          CLT_Jacob_Smith  2496.06\n",
       "2      CLT_Mrs._Erin_Ramos   318.55\n",
       "3         CLT_Thomas_Chung   6906.0\n",
       "4            CLT_Amy_Velez    512.2\n",
       "...                    ...      ...\n",
       "1178  CLT_Elizabeth_Hooper   562.28\n",
       "1179     CLT_Michael_Jones  1184.68\n",
       "1180     CLT_Marcus_Taylor   688.06\n",
       "1181    CLT_David_Gonzalez  6452.73\n",
       "1182     CLT_Matthew_Young   331.23\n",
       "\n",
       "[1183 rows x 2 columns]"
      ]
     },
     "execution_count": 56,
     "metadata": {},
     "output_type": "execute_result"
    }
   ],
   "source": [
    "execute_query(\"\"\"select a.id_client, sum(f.total)\n",
    "from melody.facture f \n",
    "join melody.achat a \n",
    "on f.id_facture = a.id_facture \n",
    "join melody.client c \n",
    "on a.id_client = c.id_client \n",
    "group by f.id_facture , a.id_client ;\"\"\")"
   ]
  },
  {
   "cell_type": "code",
   "execution_count": 57,
   "metadata": {},
   "outputs": [
    {
     "data": {
      "text/html": [
       "<div>\n",
       "<style scoped>\n",
       "    .dataframe tbody tr th:only-of-type {\n",
       "        vertical-align: middle;\n",
       "    }\n",
       "\n",
       "    .dataframe tbody tr th {\n",
       "        vertical-align: top;\n",
       "    }\n",
       "\n",
       "    .dataframe thead th {\n",
       "        text-align: right;\n",
       "    }\n",
       "</style>\n",
       "<table border=\"1\" class=\"dataframe\">\n",
       "  <thead>\n",
       "    <tr style=\"text-align: right;\">\n",
       "      <th></th>\n",
       "      <th>id_client</th>\n",
       "      <th>total_depense</th>\n",
       "      <th>score_depense</th>\n",
       "    </tr>\n",
       "  </thead>\n",
       "  <tbody>\n",
       "    <tr>\n",
       "      <th>0</th>\n",
       "      <td>CLT_James_Nguyen</td>\n",
       "      <td>960.10</td>\n",
       "      <td>3</td>\n",
       "    </tr>\n",
       "    <tr>\n",
       "      <th>1</th>\n",
       "      <td>CLT_Jacob_Smith</td>\n",
       "      <td>2496.06</td>\n",
       "      <td>1</td>\n",
       "    </tr>\n",
       "    <tr>\n",
       "      <th>2</th>\n",
       "      <td>CLT_Mrs._Erin_Ramos</td>\n",
       "      <td>318.55</td>\n",
       "      <td>4</td>\n",
       "    </tr>\n",
       "    <tr>\n",
       "      <th>3</th>\n",
       "      <td>CLT_Thomas_Chung</td>\n",
       "      <td>6906.00</td>\n",
       "      <td>1</td>\n",
       "    </tr>\n",
       "    <tr>\n",
       "      <th>4</th>\n",
       "      <td>CLT_Amy_Velez</td>\n",
       "      <td>512.20</td>\n",
       "      <td>3</td>\n",
       "    </tr>\n",
       "    <tr>\n",
       "      <th>...</th>\n",
       "      <td>...</td>\n",
       "      <td>...</td>\n",
       "      <td>...</td>\n",
       "    </tr>\n",
       "    <tr>\n",
       "      <th>1178</th>\n",
       "      <td>CLT_Elizabeth_Hooper</td>\n",
       "      <td>562.28</td>\n",
       "      <td>3</td>\n",
       "    </tr>\n",
       "    <tr>\n",
       "      <th>1179</th>\n",
       "      <td>CLT_Michael_Jones</td>\n",
       "      <td>1184.68</td>\n",
       "      <td>2</td>\n",
       "    </tr>\n",
       "    <tr>\n",
       "      <th>1180</th>\n",
       "      <td>CLT_Marcus_Taylor</td>\n",
       "      <td>688.06</td>\n",
       "      <td>3</td>\n",
       "    </tr>\n",
       "    <tr>\n",
       "      <th>1181</th>\n",
       "      <td>CLT_David_Gonzalez</td>\n",
       "      <td>6452.73</td>\n",
       "      <td>1</td>\n",
       "    </tr>\n",
       "    <tr>\n",
       "      <th>1182</th>\n",
       "      <td>CLT_Matthew_Young</td>\n",
       "      <td>331.23</td>\n",
       "      <td>4</td>\n",
       "    </tr>\n",
       "  </tbody>\n",
       "</table>\n",
       "<p>1183 rows × 3 columns</p>\n",
       "</div>"
      ],
      "text/plain": [
       "                 id_client  total_depense score_depense\n",
       "0         CLT_James_Nguyen         960.10             3\n",
       "1          CLT_Jacob_Smith        2496.06             1\n",
       "2      CLT_Mrs._Erin_Ramos         318.55             4\n",
       "3         CLT_Thomas_Chung        6906.00             1\n",
       "4            CLT_Amy_Velez         512.20             3\n",
       "...                    ...            ...           ...\n",
       "1178  CLT_Elizabeth_Hooper         562.28             3\n",
       "1179     CLT_Michael_Jones        1184.68             2\n",
       "1180     CLT_Marcus_Taylor         688.06             3\n",
       "1181    CLT_David_Gonzalez        6452.73             1\n",
       "1182     CLT_Matthew_Young         331.23             4\n",
       "\n",
       "[1183 rows x 3 columns]"
      ]
     },
     "execution_count": 57,
     "metadata": {},
     "output_type": "execute_result"
    }
   ],
   "source": [
    "with SessionLocal() as session:\n",
    "    query = (\n",
    "        session.query(\n",
    "            Client.id_client,\n",
    "            func.sum(Facture.total).label('total_depense')\n",
    "        )\n",
    "        .join(Achat, Achat.id_facture == Facture.id_facture)\n",
    "        .join(Client, Client.id_client == Achat.id_client)\n",
    "        .group_by(Facture.id_facture, Client.id_client)\n",
    "    )\n",
    "    result = query.all()\n",
    "    df_montant = pd.DataFrame(result, columns=['id_client', 'total_depense'])\n",
    "df_montant['total_depense'] = pd.to_numeric(df_montant['total_depense'], errors='coerce')\n",
    "df_montant['score_depense'] = pd.qcut(\n",
    "    df_montant['total_depense'].dropna(), \n",
    "    q=5, \n",
    "    labels=[5, 4, 3, 2, 1]\n",
    ")\n",
    "df_montant\n",
    "    \n"
   ]
  },
  {
   "cell_type": "markdown",
   "metadata": {},
   "source": [
    "## Récupération fréquence"
   ]
  },
  {
   "cell_type": "code",
   "execution_count": 58,
   "metadata": {},
   "outputs": [
    {
     "data": {
      "text/html": [
       "<div>\n",
       "<style scoped>\n",
       "    .dataframe tbody tr th:only-of-type {\n",
       "        vertical-align: middle;\n",
       "    }\n",
       "\n",
       "    .dataframe tbody tr th {\n",
       "        vertical-align: top;\n",
       "    }\n",
       "\n",
       "    .dataframe thead th {\n",
       "        text-align: right;\n",
       "    }\n",
       "</style>\n",
       "<table border=\"1\" class=\"dataframe\">\n",
       "  <thead>\n",
       "    <tr style=\"text-align: right;\">\n",
       "      <th></th>\n",
       "      <th>id_client</th>\n",
       "      <th>nombre_de_commande</th>\n",
       "      <th>score_frequence</th>\n",
       "    </tr>\n",
       "  </thead>\n",
       "  <tbody>\n",
       "    <tr>\n",
       "      <th>479</th>\n",
       "      <td>CLT_Paul_Johnson</td>\n",
       "      <td>1</td>\n",
       "      <td>1</td>\n",
       "    </tr>\n",
       "    <tr>\n",
       "      <th>224</th>\n",
       "      <td>CLT_Gina_Lee_MD</td>\n",
       "      <td>1</td>\n",
       "      <td>1</td>\n",
       "    </tr>\n",
       "    <tr>\n",
       "      <th>444</th>\n",
       "      <td>CLT_Morgan_Payne</td>\n",
       "      <td>1</td>\n",
       "      <td>1</td>\n",
       "    </tr>\n",
       "    <tr>\n",
       "      <th>446</th>\n",
       "      <td>CLT_Mr._Danny_Parrish_Jr.</td>\n",
       "      <td>1</td>\n",
       "      <td>1</td>\n",
       "    </tr>\n",
       "    <tr>\n",
       "      <th>447</th>\n",
       "      <td>CLT_Mr._Jacob_Morris</td>\n",
       "      <td>1</td>\n",
       "      <td>1</td>\n",
       "    </tr>\n",
       "    <tr>\n",
       "      <th>...</th>\n",
       "      <td>...</td>\n",
       "      <td>...</td>\n",
       "      <td>...</td>\n",
       "    </tr>\n",
       "    <tr>\n",
       "      <th>299</th>\n",
       "      <td>CLT_Jonathan_Rios</td>\n",
       "      <td>6</td>\n",
       "      <td>5</td>\n",
       "    </tr>\n",
       "    <tr>\n",
       "      <th>278</th>\n",
       "      <td>CLT_Jesse_Barnett</td>\n",
       "      <td>6</td>\n",
       "      <td>5</td>\n",
       "    </tr>\n",
       "    <tr>\n",
       "      <th>340</th>\n",
       "      <td>CLT_Kimberly_Smith</td>\n",
       "      <td>6</td>\n",
       "      <td>5</td>\n",
       "    </tr>\n",
       "    <tr>\n",
       "      <th>419</th>\n",
       "      <td>CLT_Michael_Jones</td>\n",
       "      <td>6</td>\n",
       "      <td>5</td>\n",
       "    </tr>\n",
       "    <tr>\n",
       "      <th>485</th>\n",
       "      <td>CLT_Priscilla_Mills</td>\n",
       "      <td>6</td>\n",
       "      <td>5</td>\n",
       "    </tr>\n",
       "  </tbody>\n",
       "</table>\n",
       "<p>611 rows × 3 columns</p>\n",
       "</div>"
      ],
      "text/plain": [
       "                     id_client  nombre_de_commande  score_frequence\n",
       "479           CLT_Paul_Johnson                   1                1\n",
       "224            CLT_Gina_Lee_MD                   1                1\n",
       "444           CLT_Morgan_Payne                   1                1\n",
       "446  CLT_Mr._Danny_Parrish_Jr.                   1                1\n",
       "447       CLT_Mr._Jacob_Morris                   1                1\n",
       "..                         ...                 ...              ...\n",
       "299          CLT_Jonathan_Rios                   6                5\n",
       "278          CLT_Jesse_Barnett                   6                5\n",
       "340         CLT_Kimberly_Smith                   6                5\n",
       "419          CLT_Michael_Jones                   6                5\n",
       "485        CLT_Priscilla_Mills                   6                5\n",
       "\n",
       "[611 rows x 3 columns]"
      ]
     },
     "execution_count": 58,
     "metadata": {},
     "output_type": "execute_result"
    }
   ],
   "source": [
    "with SessionLocal() as session:\n",
    "    query = (\n",
    "        session.query(\n",
    "            Client.id_client,\n",
    "            func.count(Achat.id_facture.distinct())\n",
    "        )\n",
    "        .join(Client, Client.id_client == Achat.id_client)\n",
    "        .group_by(Client.id_client)\n",
    "    )\n",
    "    result = query.all()\n",
    "    df_frequence = pd.DataFrame(result, columns=['id_client', 'nombre_de_commande'])\n",
    "bins = [0.0, 0.2, 0.4, 0.6, 0.8, 1.0]\n",
    "labels = [1, 2, 3, 4, 5]\n",
    "df_frequence['score_frequence'] = pd.cut(df_frequence['nombre_de_commande'].rank(method='min', pct=True), \n",
    "                                           bins=bins, \n",
    "                                           labels=labels, \n",
    "                                           include_lowest=True, \n",
    "                                           right=False)\n",
    "df_frequence['score_frequence'] = df_frequence['score_frequence'].astype(int)\n",
    "df_frequence.sort_values(\"nombre_de_commande\")"
   ]
  },
  {
   "cell_type": "markdown",
   "metadata": {},
   "source": [
    "## Récupération récence"
   ]
  },
  {
   "cell_type": "code",
   "execution_count": 59,
   "metadata": {},
   "outputs": [
    {
     "data": {
      "text/html": [
       "<div>\n",
       "<style scoped>\n",
       "    .dataframe tbody tr th:only-of-type {\n",
       "        vertical-align: middle;\n",
       "    }\n",
       "\n",
       "    .dataframe tbody tr th {\n",
       "        vertical-align: top;\n",
       "    }\n",
       "\n",
       "    .dataframe thead th {\n",
       "        text-align: right;\n",
       "    }\n",
       "</style>\n",
       "<table border=\"1\" class=\"dataframe\">\n",
       "  <thead>\n",
       "    <tr style=\"text-align: right;\">\n",
       "      <th></th>\n",
       "      <th>id_client</th>\n",
       "      <th>jours_depuis_derniere_facture</th>\n",
       "      <th>score_recence</th>\n",
       "    </tr>\n",
       "  </thead>\n",
       "  <tbody>\n",
       "    <tr>\n",
       "      <th>0</th>\n",
       "      <td>CLT_Christina_Cortez</td>\n",
       "      <td>1240</td>\n",
       "      <td>5</td>\n",
       "    </tr>\n",
       "    <tr>\n",
       "      <th>264</th>\n",
       "      <td>CLT_Renee_Gray</td>\n",
       "      <td>1426</td>\n",
       "      <td>5</td>\n",
       "    </tr>\n",
       "    <tr>\n",
       "      <th>267</th>\n",
       "      <td>CLT_Chad_Hubbard</td>\n",
       "      <td>278</td>\n",
       "      <td>5</td>\n",
       "    </tr>\n",
       "    <tr>\n",
       "      <th>283</th>\n",
       "      <td>CLT_Edward_Strong</td>\n",
       "      <td>1391</td>\n",
       "      <td>5</td>\n",
       "    </tr>\n",
       "    <tr>\n",
       "      <th>284</th>\n",
       "      <td>CLT_Roberta_Bennett</td>\n",
       "      <td>1234</td>\n",
       "      <td>5</td>\n",
       "    </tr>\n",
       "    <tr>\n",
       "      <th>...</th>\n",
       "      <td>...</td>\n",
       "      <td>...</td>\n",
       "      <td>...</td>\n",
       "    </tr>\n",
       "    <tr>\n",
       "      <th>405</th>\n",
       "      <td>CLT_Elizabeth_Spencer</td>\n",
       "      <td>2269</td>\n",
       "      <td>1</td>\n",
       "    </tr>\n",
       "    <tr>\n",
       "      <th>268</th>\n",
       "      <td>CLT_Jordan_Robinson</td>\n",
       "      <td>2289</td>\n",
       "      <td>1</td>\n",
       "    </tr>\n",
       "    <tr>\n",
       "      <th>491</th>\n",
       "      <td>CLT_Frank_Brown</td>\n",
       "      <td>2215</td>\n",
       "      <td>1</td>\n",
       "    </tr>\n",
       "    <tr>\n",
       "      <th>198</th>\n",
       "      <td>CLT_Lisa_Williams</td>\n",
       "      <td>2185</td>\n",
       "      <td>1</td>\n",
       "    </tr>\n",
       "    <tr>\n",
       "      <th>321</th>\n",
       "      <td>CLT_Michael_Kim</td>\n",
       "      <td>2220</td>\n",
       "      <td>1</td>\n",
       "    </tr>\n",
       "  </tbody>\n",
       "</table>\n",
       "<p>611 rows × 3 columns</p>\n",
       "</div>"
      ],
      "text/plain": [
       "                 id_client  jours_depuis_derniere_facture score_recence\n",
       "0     CLT_Christina_Cortez                           1240             5\n",
       "264         CLT_Renee_Gray                           1426             5\n",
       "267       CLT_Chad_Hubbard                            278             5\n",
       "283      CLT_Edward_Strong                           1391             5\n",
       "284    CLT_Roberta_Bennett                           1234             5\n",
       "..                     ...                            ...           ...\n",
       "405  CLT_Elizabeth_Spencer                           2269             1\n",
       "268    CLT_Jordan_Robinson                           2289             1\n",
       "491        CLT_Frank_Brown                           2215             1\n",
       "198      CLT_Lisa_Williams                           2185             1\n",
       "321        CLT_Michael_Kim                           2220             1\n",
       "\n",
       "[611 rows x 3 columns]"
      ]
     },
     "execution_count": 59,
     "metadata": {},
     "output_type": "execute_result"
    }
   ],
   "source": [
    "with SessionLocal() as session:\n",
    "    now = datetime.now().date()\n",
    "    query = (\n",
    "        session.query(\n",
    "            Achat.id_client,\n",
    "            cast(func.date_part('day', now - func.max(Facture.date_facturation)), Integer).label(\"jours_depuis_derniere_facture\")\n",
    "        )\n",
    "        .join(Facture, Facture.id_facture == Achat.id_facture)\n",
    "        .join(Client, Client.id_client == Achat.id_client)\n",
    "        .group_by(Achat.id_client)\n",
    "    )\n",
    "    result = query.all()\n",
    "    df_recence = pd.DataFrame(result, columns=['id_client', 'jours_depuis_derniere_facture'])\n",
    "df_recence['score_recence'] = pd.qcut(\n",
    "    df_recence['jours_depuis_derniere_facture'], \n",
    "    q=5, \n",
    "    labels=[5, 4, 3, 2, 1]\n",
    ")\n",
    "df_recence.sort_values(\"score_recence\")\n",
    "\n"
   ]
  },
  {
   "cell_type": "markdown",
   "metadata": {},
   "source": [
    "# Segmentation RFM"
   ]
  },
  {
   "cell_type": "code",
   "execution_count": 60,
   "metadata": {},
   "outputs": [
    {
     "data": {
      "text/html": [
       "<div>\n",
       "<style scoped>\n",
       "    .dataframe tbody tr th:only-of-type {\n",
       "        vertical-align: middle;\n",
       "    }\n",
       "\n",
       "    .dataframe tbody tr th {\n",
       "        vertical-align: top;\n",
       "    }\n",
       "\n",
       "    .dataframe thead th {\n",
       "        text-align: right;\n",
       "    }\n",
       "</style>\n",
       "<table border=\"1\" class=\"dataframe\">\n",
       "  <thead>\n",
       "    <tr style=\"text-align: right;\">\n",
       "      <th></th>\n",
       "      <th>id_client</th>\n",
       "      <th>total_depense</th>\n",
       "      <th>score_depense</th>\n",
       "      <th>nombre_de_commande</th>\n",
       "      <th>score_frequence</th>\n",
       "      <th>jours_depuis_derniere_facture</th>\n",
       "      <th>score_recence</th>\n",
       "    </tr>\n",
       "  </thead>\n",
       "  <tbody>\n",
       "    <tr>\n",
       "      <th>0</th>\n",
       "      <td>CLT_James_Nguyen</td>\n",
       "      <td>960.10</td>\n",
       "      <td>3</td>\n",
       "      <td>1</td>\n",
       "      <td>1</td>\n",
       "      <td>2078</td>\n",
       "      <td>2</td>\n",
       "    </tr>\n",
       "    <tr>\n",
       "      <th>1</th>\n",
       "      <td>CLT_Jacob_Smith</td>\n",
       "      <td>2496.06</td>\n",
       "      <td>1</td>\n",
       "      <td>4</td>\n",
       "      <td>5</td>\n",
       "      <td>1508</td>\n",
       "      <td>4</td>\n",
       "    </tr>\n",
       "    <tr>\n",
       "      <th>2</th>\n",
       "      <td>CLT_Jacob_Smith</td>\n",
       "      <td>46.48</td>\n",
       "      <td>5</td>\n",
       "      <td>4</td>\n",
       "      <td>5</td>\n",
       "      <td>1508</td>\n",
       "      <td>4</td>\n",
       "    </tr>\n",
       "    <tr>\n",
       "      <th>3</th>\n",
       "      <td>CLT_Jacob_Smith</td>\n",
       "      <td>1244.10</td>\n",
       "      <td>2</td>\n",
       "      <td>4</td>\n",
       "      <td>5</td>\n",
       "      <td>1508</td>\n",
       "      <td>4</td>\n",
       "    </tr>\n",
       "    <tr>\n",
       "      <th>4</th>\n",
       "      <td>CLT_Jacob_Smith</td>\n",
       "      <td>1374.24</td>\n",
       "      <td>2</td>\n",
       "      <td>4</td>\n",
       "      <td>5</td>\n",
       "      <td>1508</td>\n",
       "      <td>4</td>\n",
       "    </tr>\n",
       "    <tr>\n",
       "      <th>...</th>\n",
       "      <td>...</td>\n",
       "      <td>...</td>\n",
       "      <td>...</td>\n",
       "      <td>...</td>\n",
       "      <td>...</td>\n",
       "      <td>...</td>\n",
       "      <td>...</td>\n",
       "    </tr>\n",
       "    <tr>\n",
       "      <th>1178</th>\n",
       "      <td>CLT_Jordan_Robinson</td>\n",
       "      <td>1671.95</td>\n",
       "      <td>2</td>\n",
       "      <td>1</td>\n",
       "      <td>1</td>\n",
       "      <td>2289</td>\n",
       "      <td>1</td>\n",
       "    </tr>\n",
       "    <tr>\n",
       "      <th>1179</th>\n",
       "      <td>CLT_Jennifer_Davis</td>\n",
       "      <td>525.60</td>\n",
       "      <td>3</td>\n",
       "      <td>1</td>\n",
       "      <td>1</td>\n",
       "      <td>1898</td>\n",
       "      <td>3</td>\n",
       "    </tr>\n",
       "    <tr>\n",
       "      <th>1180</th>\n",
       "      <td>CLT_Leah_Huynh</td>\n",
       "      <td>1809.04</td>\n",
       "      <td>2</td>\n",
       "      <td>1</td>\n",
       "      <td>1</td>\n",
       "      <td>1946</td>\n",
       "      <td>2</td>\n",
       "    </tr>\n",
       "    <tr>\n",
       "      <th>1181</th>\n",
       "      <td>CLT_Elizabeth_Hooper</td>\n",
       "      <td>562.28</td>\n",
       "      <td>3</td>\n",
       "      <td>1</td>\n",
       "      <td>1</td>\n",
       "      <td>2109</td>\n",
       "      <td>2</td>\n",
       "    </tr>\n",
       "    <tr>\n",
       "      <th>1182</th>\n",
       "      <td>CLT_Matthew_Young</td>\n",
       "      <td>331.23</td>\n",
       "      <td>4</td>\n",
       "      <td>1</td>\n",
       "      <td>1</td>\n",
       "      <td>1589</td>\n",
       "      <td>4</td>\n",
       "    </tr>\n",
       "  </tbody>\n",
       "</table>\n",
       "<p>1183 rows × 7 columns</p>\n",
       "</div>"
      ],
      "text/plain": [
       "                 id_client  total_depense score_depense  nombre_de_commande  \\\n",
       "0         CLT_James_Nguyen         960.10             3                   1   \n",
       "1          CLT_Jacob_Smith        2496.06             1                   4   \n",
       "2          CLT_Jacob_Smith          46.48             5                   4   \n",
       "3          CLT_Jacob_Smith        1244.10             2                   4   \n",
       "4          CLT_Jacob_Smith        1374.24             2                   4   \n",
       "...                    ...            ...           ...                 ...   \n",
       "1178   CLT_Jordan_Robinson        1671.95             2                   1   \n",
       "1179    CLT_Jennifer_Davis         525.60             3                   1   \n",
       "1180        CLT_Leah_Huynh        1809.04             2                   1   \n",
       "1181  CLT_Elizabeth_Hooper         562.28             3                   1   \n",
       "1182     CLT_Matthew_Young         331.23             4                   1   \n",
       "\n",
       "      score_frequence  jours_depuis_derniere_facture score_recence  \n",
       "0                   1                           2078             2  \n",
       "1                   5                           1508             4  \n",
       "2                   5                           1508             4  \n",
       "3                   5                           1508             4  \n",
       "4                   5                           1508             4  \n",
       "...               ...                            ...           ...  \n",
       "1178                1                           2289             1  \n",
       "1179                1                           1898             3  \n",
       "1180                1                           1946             2  \n",
       "1181                1                           2109             2  \n",
       "1182                1                           1589             4  \n",
       "\n",
       "[1183 rows x 7 columns]"
      ]
     },
     "execution_count": 60,
     "metadata": {},
     "output_type": "execute_result"
    }
   ],
   "source": [
    "df = df_montant.merge(df_frequence, how=\"outer\")\n",
    "df = df.merge(df_recence, how=\"outer\")\n",
    "df"
   ]
  },
  {
   "cell_type": "code",
   "execution_count": 61,
   "metadata": {},
   "outputs": [
    {
     "data": {
      "text/html": [
       "<div>\n",
       "<style scoped>\n",
       "    .dataframe tbody tr th:only-of-type {\n",
       "        vertical-align: middle;\n",
       "    }\n",
       "\n",
       "    .dataframe tbody tr th {\n",
       "        vertical-align: top;\n",
       "    }\n",
       "\n",
       "    .dataframe thead th {\n",
       "        text-align: right;\n",
       "    }\n",
       "</style>\n",
       "<table border=\"1\" class=\"dataframe\">\n",
       "  <thead>\n",
       "    <tr style=\"text-align: right;\">\n",
       "      <th></th>\n",
       "      <th>id_client</th>\n",
       "      <th>total_depense</th>\n",
       "      <th>score_depense</th>\n",
       "      <th>nombre_de_commande</th>\n",
       "      <th>score_frequence</th>\n",
       "      <th>jours_depuis_derniere_facture</th>\n",
       "      <th>score_recence</th>\n",
       "      <th>segment</th>\n",
       "    </tr>\n",
       "  </thead>\n",
       "  <tbody>\n",
       "    <tr>\n",
       "      <th>0</th>\n",
       "      <td>CLT_James_Nguyen</td>\n",
       "      <td>960.10</td>\n",
       "      <td>3</td>\n",
       "      <td>1</td>\n",
       "      <td>1</td>\n",
       "      <td>2078</td>\n",
       "      <td>2</td>\n",
       "      <td>At Risk</td>\n",
       "    </tr>\n",
       "    <tr>\n",
       "      <th>1</th>\n",
       "      <td>CLT_Jacob_Smith</td>\n",
       "      <td>2496.06</td>\n",
       "      <td>1</td>\n",
       "      <td>4</td>\n",
       "      <td>5</td>\n",
       "      <td>1508</td>\n",
       "      <td>4</td>\n",
       "      <td>Champions</td>\n",
       "    </tr>\n",
       "    <tr>\n",
       "      <th>2</th>\n",
       "      <td>CLT_Jacob_Smith</td>\n",
       "      <td>46.48</td>\n",
       "      <td>5</td>\n",
       "      <td>4</td>\n",
       "      <td>5</td>\n",
       "      <td>1508</td>\n",
       "      <td>4</td>\n",
       "      <td>Champions</td>\n",
       "    </tr>\n",
       "    <tr>\n",
       "      <th>3</th>\n",
       "      <td>CLT_Jacob_Smith</td>\n",
       "      <td>1244.10</td>\n",
       "      <td>2</td>\n",
       "      <td>4</td>\n",
       "      <td>5</td>\n",
       "      <td>1508</td>\n",
       "      <td>4</td>\n",
       "      <td>Champions</td>\n",
       "    </tr>\n",
       "    <tr>\n",
       "      <th>4</th>\n",
       "      <td>CLT_Jacob_Smith</td>\n",
       "      <td>1374.24</td>\n",
       "      <td>2</td>\n",
       "      <td>4</td>\n",
       "      <td>5</td>\n",
       "      <td>1508</td>\n",
       "      <td>4</td>\n",
       "      <td>Champions</td>\n",
       "    </tr>\n",
       "    <tr>\n",
       "      <th>...</th>\n",
       "      <td>...</td>\n",
       "      <td>...</td>\n",
       "      <td>...</td>\n",
       "      <td>...</td>\n",
       "      <td>...</td>\n",
       "      <td>...</td>\n",
       "      <td>...</td>\n",
       "      <td>...</td>\n",
       "    </tr>\n",
       "    <tr>\n",
       "      <th>1178</th>\n",
       "      <td>CLT_Jordan_Robinson</td>\n",
       "      <td>1671.95</td>\n",
       "      <td>2</td>\n",
       "      <td>1</td>\n",
       "      <td>1</td>\n",
       "      <td>2289</td>\n",
       "      <td>1</td>\n",
       "      <td>Lost</td>\n",
       "    </tr>\n",
       "    <tr>\n",
       "      <th>1179</th>\n",
       "      <td>CLT_Jennifer_Davis</td>\n",
       "      <td>525.60</td>\n",
       "      <td>3</td>\n",
       "      <td>1</td>\n",
       "      <td>1</td>\n",
       "      <td>1898</td>\n",
       "      <td>3</td>\n",
       "      <td>Need Attention</td>\n",
       "    </tr>\n",
       "    <tr>\n",
       "      <th>1180</th>\n",
       "      <td>CLT_Leah_Huynh</td>\n",
       "      <td>1809.04</td>\n",
       "      <td>2</td>\n",
       "      <td>1</td>\n",
       "      <td>1</td>\n",
       "      <td>1946</td>\n",
       "      <td>2</td>\n",
       "      <td>Lost</td>\n",
       "    </tr>\n",
       "    <tr>\n",
       "      <th>1181</th>\n",
       "      <td>CLT_Elizabeth_Hooper</td>\n",
       "      <td>562.28</td>\n",
       "      <td>3</td>\n",
       "      <td>1</td>\n",
       "      <td>1</td>\n",
       "      <td>2109</td>\n",
       "      <td>2</td>\n",
       "      <td>At Risk</td>\n",
       "    </tr>\n",
       "    <tr>\n",
       "      <th>1182</th>\n",
       "      <td>CLT_Matthew_Young</td>\n",
       "      <td>331.23</td>\n",
       "      <td>4</td>\n",
       "      <td>1</td>\n",
       "      <td>1</td>\n",
       "      <td>1589</td>\n",
       "      <td>4</td>\n",
       "      <td>Champions</td>\n",
       "    </tr>\n",
       "  </tbody>\n",
       "</table>\n",
       "<p>1183 rows × 8 columns</p>\n",
       "</div>"
      ],
      "text/plain": [
       "                 id_client  total_depense score_depense  nombre_de_commande  \\\n",
       "0         CLT_James_Nguyen         960.10             3                   1   \n",
       "1          CLT_Jacob_Smith        2496.06             1                   4   \n",
       "2          CLT_Jacob_Smith          46.48             5                   4   \n",
       "3          CLT_Jacob_Smith        1244.10             2                   4   \n",
       "4          CLT_Jacob_Smith        1374.24             2                   4   \n",
       "...                    ...            ...           ...                 ...   \n",
       "1178   CLT_Jordan_Robinson        1671.95             2                   1   \n",
       "1179    CLT_Jennifer_Davis         525.60             3                   1   \n",
       "1180        CLT_Leah_Huynh        1809.04             2                   1   \n",
       "1181  CLT_Elizabeth_Hooper         562.28             3                   1   \n",
       "1182     CLT_Matthew_Young         331.23             4                   1   \n",
       "\n",
       "      score_frequence  jours_depuis_derniere_facture score_recence  \\\n",
       "0                   1                           2078             2   \n",
       "1                   5                           1508             4   \n",
       "2                   5                           1508             4   \n",
       "3                   5                           1508             4   \n",
       "4                   5                           1508             4   \n",
       "...               ...                            ...           ...   \n",
       "1178                1                           2289             1   \n",
       "1179                1                           1898             3   \n",
       "1180                1                           1946             2   \n",
       "1181                1                           2109             2   \n",
       "1182                1                           1589             4   \n",
       "\n",
       "             segment  \n",
       "0            At Risk  \n",
       "1          Champions  \n",
       "2          Champions  \n",
       "3          Champions  \n",
       "4          Champions  \n",
       "...              ...  \n",
       "1178            Lost  \n",
       "1179  Need Attention  \n",
       "1180            Lost  \n",
       "1181         At Risk  \n",
       "1182       Champions  \n",
       "\n",
       "[1183 rows x 8 columns]"
      ]
     },
     "execution_count": 61,
     "metadata": {},
     "output_type": "execute_result"
    }
   ],
   "source": [
    "def segment_customer(row):\n",
    "    recency = row['score_recence']\n",
    "    frequency_monetary = row['score_frequence'] * row[\"score_depense\"]\n",
    "\n",
    "    if recency <= 2:\n",
    "        if frequency_monetary >= 4:\n",
    "            return \"Cannot Lose Them\"\n",
    "        elif frequency_monetary <= 2:\n",
    "            return \"Lost\"\n",
    "        else:\n",
    "            return \"At Risk\"\n",
    "    elif recency >= 4:\n",
    "        if frequency_monetary >= 4:\n",
    "            return \"Champions\"\n",
    "        elif frequency_monetary == 1:\n",
    "            return \"New\"\n",
    "        else:\n",
    "            return \"Loyal\"\n",
    "    else:  # recency = 3\n",
    "        if frequency_monetary >= 4:\n",
    "            return \"Loyal\"\n",
    "        elif frequency_monetary == 3:\n",
    "            return \"Need Attention\"\n",
    "        elif frequency_monetary == 2:\n",
    "            return \"About to Sleep\"\n",
    "        else:\n",
    "            return \"Promising\"\n",
    "\n",
    "df['segment'] = df.apply(segment_customer, axis=1)\n",
    "df\n"
   ]
  },
  {
   "cell_type": "code",
   "execution_count": 62,
   "metadata": {},
   "outputs": [
    {
     "data": {
      "application/vnd.plotly.v1+json": {
       "config": {
        "plotlyServerURL": "https://plot.ly"
       },
       "data": [
        {
         "marker": {
          "color": {
           "bdata": "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",
           "dtype": "f8"
          },
          "colorbar": {
           "ticktext": [
            "About to sleep",
            "At risk",
            "Cannot Lose them",
            "Champions",
            "Lost",
            "Loyal",
            "Need attention",
            "New",
            "Potential Loyalists",
            "Promising"
           ],
           "tickvals": [
            0,
            1,
            2,
            3,
            4,
            5,
            6,
            7,
            8,
            9
           ],
           "title": {
            "text": "Segment"
           }
          },
          "colorscale": [
           [
            0,
            "lightcoral"
           ],
           [
            0.1,
            "coral"
           ],
           [
            0.2,
            "firebrick"
           ],
           [
            0.3,
            "gold"
           ],
           [
            0.4,
            "darkgray"
           ],
           [
            0.5,
            "forestgreen"
           ],
           [
            0.6,
            "sandybrown"
           ],
           [
            0.7,
            "lightgreen"
           ],
           [
            0.8,
            "mediumseagreen"
           ],
           [
            0.9,
            "skyblue"
           ]
          ],
          "opacity": 0.8,
          "size": 5
         },
         "mode": "markers",
         "type": "scatter3d",
         "x": {
          "bdata": "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",
          "dtype": "f8"
         },
         "y": {
          "bdata": "AQQEBAQEBAQEAQMDAwQEBAQDAwMEBAQEAgIBAwMDAgIEBAQEBQUFBQUBBAQEBAMDAwMDAwICAwMDAQMDAwICAQICAQMDAwICAQICAgIBAwMDAgIBAwMDBAQEBAECAgQEBAQDAwMCAgICAgIDAwMEBAQEAQQEBAQBAwMDAgIEBAQEAwMDBQUFBQUCAgICAQUFBQUFAgIBAgIEBAQEAwMDBQUFBQUEBAQEAgIBAgIFBQUFBQMDAwICAwMDAwMDAgIEBAQEAQUFBQUFAwMDAQEGBgYGBgYEBAQEAgIBAgICAgMDAwEBAgICAgICAgIDAwMDAwMBAgIDAwMEBAQEAQMDAwMDAwMDAwUFBQUFAwMDAgIEBAQEAQICAwMDAgIGBgYGBgYFBQUFBQICAgICAgEDAwMBAwMDAgICAgICAgIEBAQEAQQEBAQDAwMDAwMEBAQEAwMDAwMDAwMDAQUFBQUFAwMDAgICAgICAwMDAQQEBAQDAwMBAgIDAwMEBAQEAQMDAwMDAwMDAwECAgEEBAQEAQMDAwEBAwMDBAQEBAECAgICBQUFBQUBAgIEBAQEAwMDAwMDAgIBAQICAgIFBQUFBQQEBAQCAgQEBAQCAgECAgEBAgICAgEDAwMBAQEBAgIBAQMDAwMDAwICAgICAgQEBAQBAwMDAwMDAwMDAwMDAwMDAgIBBAQEBAICAQMDAwEDAwMCAgEBAQMDAwEFBQUFBQQEBAQCAgMDAwECAgQEBAQFBQUFBQMDAwICAQUFBQUFAwMDAwMDAgIBAwMDAgIBAgIGBgYGBgYBAwMDAQQEBAQCAgEBBAQEBAYGBgYGBgMDAwECAgEBAQEDAwMCAgECAgICAQMDAwECAgEEBAQEAgICAgICAgIBAgIBAQQEBAQCAgICAgIBAgIDAwMBAQEBAwMDBAQEBAEBAgICAgICAwMDAgIBAQMDAwICAQEBAQQEBAQBAQECAgEDAwMCAgEDAwMBBAQEBAECAgQEBAQCAgICAQEEBAQEAQECAgICAgIGBgYGBgYBAwMDAwMDAQMDAwICAQMDAwEBAQICAQEBAQICAwMDBAQEBAEBAgIDAwMDAwMEBAQEAQMDAwEBAQECAgEDAwMBAgIBAQICAgICAgMDAwEBAgICAgEBAgIBAgIBAgIBAQICAQICAgICAgICAQECAgICAgICAgECAgEEBAQEAgIBAgIBAgIBAgIBAgIBAgICAgECAgEBAQICAQEBAQICAQEBAgIBAQEBAwMDAgIFBQUFBQEBAgIBAQEBAgIBAQEBAgIBAQEBAgICAgICAgICAgEBAgIBAQEBAQECAgICAgIBAQICAgICAgEBAgIBAgIEBAQEAgIBAQEBAgIBAgIBAQMDAwECAgICAQMDAwICAQEBAQEBAQQEBAQBAwMDAQECAgECAgECAgEBAQEBAgIBAQEBAQQEBAQBAQICAQEBAQEBAgIBAQMDAwICAQEBAgIBAQEBAQICAgIEBAQEAQEBAgIBAgIBAgIBAQEBAQEDAwMBAQEBAQEBAQEBAQEBAQEBAQEBAQEBAQEBAQICAQEBAQEBAQEBAQEBAQEBAQ==",
          "dtype": "i1"
         },
         "z": {
          "bdata": "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",
          "dtype": "i2"
         }
        }
       ],
       "layout": {
        "scene": {
         "xaxis": {
          "title": {
           "text": "total_depense"
          }
         },
         "yaxis": {
          "title": {
           "text": "nombre_de_commande"
          }
         },
         "zaxis": {
          "title": {
           "text": "jours_depuis_derniere_facture"
          }
         }
        },
        "template": {
         "data": {
          "bar": [
           {
            "error_x": {
             "color": "#2a3f5f"
            },
            "error_y": {
             "color": "#2a3f5f"
            },
            "marker": {
             "line": {
              "color": "#E5ECF6",
              "width": 0.5
             },
             "pattern": {
              "fillmode": "overlay",
              "size": 10,
              "solidity": 0.2
             }
            },
            "type": "bar"
           }
          ],
          "barpolar": [
           {
            "marker": {
             "line": {
              "color": "#E5ECF6",
              "width": 0.5
             },
             "pattern": {
              "fillmode": "overlay",
              "size": 10,
              "solidity": 0.2
             }
            },
            "type": "barpolar"
           }
          ],
          "carpet": [
           {
            "aaxis": {
             "endlinecolor": "#2a3f5f",
             "gridcolor": "white",
             "linecolor": "white",
             "minorgridcolor": "white",
             "startlinecolor": "#2a3f5f"
            },
            "baxis": {
             "endlinecolor": "#2a3f5f",
             "gridcolor": "white",
             "linecolor": "white",
             "minorgridcolor": "white",
             "startlinecolor": "#2a3f5f"
            },
            "type": "carpet"
           }
          ],
          "choropleth": [
           {
            "colorbar": {
             "outlinewidth": 0,
             "ticks": ""
            },
            "type": "choropleth"
           }
          ],
          "contour": [
           {
            "colorbar": {
             "outlinewidth": 0,
             "ticks": ""
            },
            "colorscale": [
             [
              0,
              "#0d0887"
             ],
             [
              0.1111111111111111,
              "#46039f"
             ],
             [
              0.2222222222222222,
              "#7201a8"
             ],
             [
              0.3333333333333333,
              "#9c179e"
             ],
             [
              0.4444444444444444,
              "#bd3786"
             ],
             [
              0.5555555555555556,
              "#d8576b"
             ],
             [
              0.6666666666666666,
              "#ed7953"
             ],
             [
              0.7777777777777778,
              "#fb9f3a"
             ],
             [
              0.8888888888888888,
              "#fdca26"
             ],
             [
              1,
              "#f0f921"
             ]
            ],
            "type": "contour"
           }
          ],
          "contourcarpet": [
           {
            "colorbar": {
             "outlinewidth": 0,
             "ticks": ""
            },
            "type": "contourcarpet"
           }
          ],
          "heatmap": [
           {
            "colorbar": {
             "outlinewidth": 0,
             "ticks": ""
            },
            "colorscale": [
             [
              0,
              "#0d0887"
             ],
             [
              0.1111111111111111,
              "#46039f"
             ],
             [
              0.2222222222222222,
              "#7201a8"
             ],
             [
              0.3333333333333333,
              "#9c179e"
             ],
             [
              0.4444444444444444,
              "#bd3786"
             ],
             [
              0.5555555555555556,
              "#d8576b"
             ],
             [
              0.6666666666666666,
              "#ed7953"
             ],
             [
              0.7777777777777778,
              "#fb9f3a"
             ],
             [
              0.8888888888888888,
              "#fdca26"
             ],
             [
              1,
              "#f0f921"
             ]
            ],
            "type": "heatmap"
           }
          ],
          "histogram": [
           {
            "marker": {
             "pattern": {
              "fillmode": "overlay",
              "size": 10,
              "solidity": 0.2
             }
            },
            "type": "histogram"
           }
          ],
          "histogram2d": [
           {
            "colorbar": {
             "outlinewidth": 0,
             "ticks": ""
            },
            "colorscale": [
             [
              0,
              "#0d0887"
             ],
             [
              0.1111111111111111,
              "#46039f"
             ],
             [
              0.2222222222222222,
              "#7201a8"
             ],
             [
              0.3333333333333333,
              "#9c179e"
             ],
             [
              0.4444444444444444,
              "#bd3786"
             ],
             [
              0.5555555555555556,
              "#d8576b"
             ],
             [
              0.6666666666666666,
              "#ed7953"
             ],
             [
              0.7777777777777778,
              "#fb9f3a"
             ],
             [
              0.8888888888888888,
              "#fdca26"
             ],
             [
              1,
              "#f0f921"
             ]
            ],
            "type": "histogram2d"
           }
          ],
          "histogram2dcontour": [
           {
            "colorbar": {
             "outlinewidth": 0,
             "ticks": ""
            },
            "colorscale": [
             [
              0,
              "#0d0887"
             ],
             [
              0.1111111111111111,
              "#46039f"
             ],
             [
              0.2222222222222222,
              "#7201a8"
             ],
             [
              0.3333333333333333,
              "#9c179e"
             ],
             [
              0.4444444444444444,
              "#bd3786"
             ],
             [
              0.5555555555555556,
              "#d8576b"
             ],
             [
              0.6666666666666666,
              "#ed7953"
             ],
             [
              0.7777777777777778,
              "#fb9f3a"
             ],
             [
              0.8888888888888888,
              "#fdca26"
             ],
             [
              1,
              "#f0f921"
             ]
            ],
            "type": "histogram2dcontour"
           }
          ],
          "mesh3d": [
           {
            "colorbar": {
             "outlinewidth": 0,
             "ticks": ""
            },
            "type": "mesh3d"
           }
          ],
          "parcoords": [
           {
            "line": {
             "colorbar": {
              "outlinewidth": 0,
              "ticks": ""
             }
            },
            "type": "parcoords"
           }
          ],
          "pie": [
           {
            "automargin": true,
            "type": "pie"
           }
          ],
          "scatter": [
           {
            "fillpattern": {
             "fillmode": "overlay",
             "size": 10,
             "solidity": 0.2
            },
            "type": "scatter"
           }
          ],
          "scatter3d": [
           {
            "line": {
             "colorbar": {
              "outlinewidth": 0,
              "ticks": ""
             }
            },
            "marker": {
             "colorbar": {
              "outlinewidth": 0,
              "ticks": ""
             }
            },
            "type": "scatter3d"
           }
          ],
          "scattercarpet": [
           {
            "marker": {
             "colorbar": {
              "outlinewidth": 0,
              "ticks": ""
             }
            },
            "type": "scattercarpet"
           }
          ],
          "scattergeo": [
           {
            "marker": {
             "colorbar": {
              "outlinewidth": 0,
              "ticks": ""
             }
            },
            "type": "scattergeo"
           }
          ],
          "scattergl": [
           {
            "marker": {
             "colorbar": {
              "outlinewidth": 0,
              "ticks": ""
             }
            },
            "type": "scattergl"
           }
          ],
          "scattermap": [
           {
            "marker": {
             "colorbar": {
              "outlinewidth": 0,
              "ticks": ""
             }
            },
            "type": "scattermap"
           }
          ],
          "scattermapbox": [
           {
            "marker": {
             "colorbar": {
              "outlinewidth": 0,
              "ticks": ""
             }
            },
            "type": "scattermapbox"
           }
          ],
          "scatterpolar": [
           {
            "marker": {
             "colorbar": {
              "outlinewidth": 0,
              "ticks": ""
             }
            },
            "type": "scatterpolar"
           }
          ],
          "scatterpolargl": [
           {
            "marker": {
             "colorbar": {
              "outlinewidth": 0,
              "ticks": ""
             }
            },
            "type": "scatterpolargl"
           }
          ],
          "scatterternary": [
           {
            "marker": {
             "colorbar": {
              "outlinewidth": 0,
              "ticks": ""
             }
            },
            "type": "scatterternary"
           }
          ],
          "surface": [
           {
            "colorbar": {
             "outlinewidth": 0,
             "ticks": ""
            },
            "colorscale": [
             [
              0,
              "#0d0887"
             ],
             [
              0.1111111111111111,
              "#46039f"
             ],
             [
              0.2222222222222222,
              "#7201a8"
             ],
             [
              0.3333333333333333,
              "#9c179e"
             ],
             [
              0.4444444444444444,
              "#bd3786"
             ],
             [
              0.5555555555555556,
              "#d8576b"
             ],
             [
              0.6666666666666666,
              "#ed7953"
             ],
             [
              0.7777777777777778,
              "#fb9f3a"
             ],
             [
              0.8888888888888888,
              "#fdca26"
             ],
             [
              1,
              "#f0f921"
             ]
            ],
            "type": "surface"
           }
          ],
          "table": [
           {
            "cells": {
             "fill": {
              "color": "#EBF0F8"
             },
             "line": {
              "color": "white"
             }
            },
            "header": {
             "fill": {
              "color": "#C8D4E3"
             },
             "line": {
              "color": "white"
             }
            },
            "type": "table"
           }
          ]
         },
         "layout": {
          "annotationdefaults": {
           "arrowcolor": "#2a3f5f",
           "arrowhead": 0,
           "arrowwidth": 1
          },
          "autotypenumbers": "strict",
          "coloraxis": {
           "colorbar": {
            "outlinewidth": 0,
            "ticks": ""
           }
          },
          "colorscale": {
           "diverging": [
            [
             0,
             "#8e0152"
            ],
            [
             0.1,
             "#c51b7d"
            ],
            [
             0.2,
             "#de77ae"
            ],
            [
             0.3,
             "#f1b6da"
            ],
            [
             0.4,
             "#fde0ef"
            ],
            [
             0.5,
             "#f7f7f7"
            ],
            [
             0.6,
             "#e6f5d0"
            ],
            [
             0.7,
             "#b8e186"
            ],
            [
             0.8,
             "#7fbc41"
            ],
            [
             0.9,
             "#4d9221"
            ],
            [
             1,
             "#276419"
            ]
           ],
           "sequential": [
            [
             0,
             "#0d0887"
            ],
            [
             0.1111111111111111,
             "#46039f"
            ],
            [
             0.2222222222222222,
             "#7201a8"
            ],
            [
             0.3333333333333333,
             "#9c179e"
            ],
            [
             0.4444444444444444,
             "#bd3786"
            ],
            [
             0.5555555555555556,
             "#d8576b"
            ],
            [
             0.6666666666666666,
             "#ed7953"
            ],
            [
             0.7777777777777778,
             "#fb9f3a"
            ],
            [
             0.8888888888888888,
             "#fdca26"
            ],
            [
             1,
             "#f0f921"
            ]
           ],
           "sequentialminus": [
            [
             0,
             "#0d0887"
            ],
            [
             0.1111111111111111,
             "#46039f"
            ],
            [
             0.2222222222222222,
             "#7201a8"
            ],
            [
             0.3333333333333333,
             "#9c179e"
            ],
            [
             0.4444444444444444,
             "#bd3786"
            ],
            [
             0.5555555555555556,
             "#d8576b"
            ],
            [
             0.6666666666666666,
             "#ed7953"
            ],
            [
             0.7777777777777778,
             "#fb9f3a"
            ],
            [
             0.8888888888888888,
             "#fdca26"
            ],
            [
             1,
             "#f0f921"
            ]
           ]
          },
          "colorway": [
           "#636efa",
           "#EF553B",
           "#00cc96",
           "#ab63fa",
           "#FFA15A",
           "#19d3f3",
           "#FF6692",
           "#B6E880",
           "#FF97FF",
           "#FECB52"
          ],
          "font": {
           "color": "#2a3f5f"
          },
          "geo": {
           "bgcolor": "white",
           "lakecolor": "white",
           "landcolor": "#E5ECF6",
           "showlakes": true,
           "showland": true,
           "subunitcolor": "white"
          },
          "hoverlabel": {
           "align": "left"
          },
          "hovermode": "closest",
          "mapbox": {
           "style": "light"
          },
          "paper_bgcolor": "white",
          "plot_bgcolor": "#E5ECF6",
          "polar": {
           "angularaxis": {
            "gridcolor": "white",
            "linecolor": "white",
            "ticks": ""
           },
           "bgcolor": "#E5ECF6",
           "radialaxis": {
            "gridcolor": "white",
            "linecolor": "white",
            "ticks": ""
           }
          },
          "scene": {
           "xaxis": {
            "backgroundcolor": "#E5ECF6",
            "gridcolor": "white",
            "gridwidth": 2,
            "linecolor": "white",
            "showbackground": true,
            "ticks": "",
            "zerolinecolor": "white"
           },
           "yaxis": {
            "backgroundcolor": "#E5ECF6",
            "gridcolor": "white",
            "gridwidth": 2,
            "linecolor": "white",
            "showbackground": true,
            "ticks": "",
            "zerolinecolor": "white"
           },
           "zaxis": {
            "backgroundcolor": "#E5ECF6",
            "gridcolor": "white",
            "gridwidth": 2,
            "linecolor": "white",
            "showbackground": true,
            "ticks": "",
            "zerolinecolor": "white"
           }
          },
          "shapedefaults": {
           "line": {
            "color": "#2a3f5f"
           }
          },
          "ternary": {
           "aaxis": {
            "gridcolor": "white",
            "linecolor": "white",
            "ticks": ""
           },
           "baxis": {
            "gridcolor": "white",
            "linecolor": "white",
            "ticks": ""
           },
           "bgcolor": "#E5ECF6",
           "caxis": {
            "gridcolor": "white",
            "linecolor": "white",
            "ticks": ""
           }
          },
          "title": {
           "x": 0.05
          },
          "xaxis": {
           "automargin": true,
           "gridcolor": "white",
           "linecolor": "white",
           "ticks": "",
           "title": {
            "standoff": 15
           },
           "zerolinecolor": "white",
           "zerolinewidth": 2
          },
          "yaxis": {
           "automargin": true,
           "gridcolor": "white",
           "linecolor": "white",
           "ticks": "",
           "title": {
            "standoff": 15
           },
           "zerolinecolor": "white",
           "zerolinewidth": 2
          }
         }
        },
        "title": {
         "text": "Répartition des clients selon RFM"
        }
       }
      }
     },
     "metadata": {},
     "output_type": "display_data"
    }
   ],
   "source": [
    "\n",
    "segment_colors = {\n",
    "    \"About to sleep\": \"lightcoral\",\n",
    "    \"At risk\": \"coral\",\n",
    "    \"Cannot Lose them\": \"firebrick\",\n",
    "    \"Champions\": \"gold\",\n",
    "    \"Lost\": \"darkgray\",\n",
    "    \"Loyal\": \"forestgreen\",\n",
    "    \"Need attention\": \"sandybrown\",\n",
    "    \"New\": \"lightgreen\",\n",
    "    \"Potential Loyalists\": \"mediumseagreen\",\n",
    "    \"Promising\": \"skyblue\"\n",
    "}\n",
    "df['segment_code'] = df['segment'].map({segment: i for i, segment in enumerate(segment_colors)})\n",
    "colorscale = [(i / len(segment_colors), color) for i, color in enumerate(segment_colors.values())]\n",
    "\n",
    "fig = go.Figure(data=[go.Scatter3d(\n",
    "    x=df['total_depense'],\n",
    "    y=df['nombre_de_commande'],\n",
    "    z=df['jours_depuis_derniere_facture'],\n",
    "    mode='markers',\n",
    "    marker=dict(\n",
    "        size=5,\n",
    "        color=df['segment_code'],\n",
    "        colorscale=colorscale,\n",
    "        opacity=0.8,\n",
    "        colorbar=dict(\n",
    "            title=\"Segment\",\n",
    "            tickvals=list(range(len(segment_colors))),\n",
    "            ticktext=list(segment_colors.keys())\n",
    "        )\n",
    "    )\n",
    ")])\n",
    "\n",
    "fig.update_layout(\n",
    "    scene = dict(\n",
    "        xaxis_title='total_depense',\n",
    "        yaxis_title='nombre_de_commande',\n",
    "        zaxis_title='jours_depuis_derniere_facture'\n",
    "    ),\n",
    "    title='Répartition des clients selon RFM'\n",
    ")\n",
    "\n",
    "fig.show()"
   ]
  },
  {
   "cell_type": "code",
   "execution_count": 63,
   "metadata": {},
   "outputs": [
    {
     "data": {
      "text/html": [
       "<div>\n",
       "<style scoped>\n",
       "    .dataframe tbody tr th:only-of-type {\n",
       "        vertical-align: middle;\n",
       "    }\n",
       "\n",
       "    .dataframe tbody tr th {\n",
       "        vertical-align: top;\n",
       "    }\n",
       "\n",
       "    .dataframe thead th {\n",
       "        text-align: right;\n",
       "    }\n",
       "</style>\n",
       "<table border=\"1\" class=\"dataframe\">\n",
       "  <thead>\n",
       "    <tr style=\"text-align: right;\">\n",
       "      <th></th>\n",
       "      <th>id_client</th>\n",
       "      <th>total_depense</th>\n",
       "      <th>nombre_de_commande</th>\n",
       "      <th>jours_depuis_derniere_facture</th>\n",
       "      <th>segment</th>\n",
       "    </tr>\n",
       "  </thead>\n",
       "  <tbody>\n",
       "    <tr>\n",
       "      <th>0</th>\n",
       "      <td>CLT_James_Nguyen</td>\n",
       "      <td>960.10</td>\n",
       "      <td>1</td>\n",
       "      <td>2078</td>\n",
       "      <td>At Risk</td>\n",
       "    </tr>\n",
       "    <tr>\n",
       "      <th>1</th>\n",
       "      <td>CLT_Jacob_Smith</td>\n",
       "      <td>2496.06</td>\n",
       "      <td>4</td>\n",
       "      <td>1508</td>\n",
       "      <td>Champions</td>\n",
       "    </tr>\n",
       "    <tr>\n",
       "      <th>2</th>\n",
       "      <td>CLT_Jacob_Smith</td>\n",
       "      <td>46.48</td>\n",
       "      <td>4</td>\n",
       "      <td>1508</td>\n",
       "      <td>Champions</td>\n",
       "    </tr>\n",
       "    <tr>\n",
       "      <th>3</th>\n",
       "      <td>CLT_Jacob_Smith</td>\n",
       "      <td>1244.10</td>\n",
       "      <td>4</td>\n",
       "      <td>1508</td>\n",
       "      <td>Champions</td>\n",
       "    </tr>\n",
       "    <tr>\n",
       "      <th>4</th>\n",
       "      <td>CLT_Jacob_Smith</td>\n",
       "      <td>1374.24</td>\n",
       "      <td>4</td>\n",
       "      <td>1508</td>\n",
       "      <td>Champions</td>\n",
       "    </tr>\n",
       "    <tr>\n",
       "      <th>...</th>\n",
       "      <td>...</td>\n",
       "      <td>...</td>\n",
       "      <td>...</td>\n",
       "      <td>...</td>\n",
       "      <td>...</td>\n",
       "    </tr>\n",
       "    <tr>\n",
       "      <th>1178</th>\n",
       "      <td>CLT_Jordan_Robinson</td>\n",
       "      <td>1671.95</td>\n",
       "      <td>1</td>\n",
       "      <td>2289</td>\n",
       "      <td>Lost</td>\n",
       "    </tr>\n",
       "    <tr>\n",
       "      <th>1179</th>\n",
       "      <td>CLT_Jennifer_Davis</td>\n",
       "      <td>525.60</td>\n",
       "      <td>1</td>\n",
       "      <td>1898</td>\n",
       "      <td>Need Attention</td>\n",
       "    </tr>\n",
       "    <tr>\n",
       "      <th>1180</th>\n",
       "      <td>CLT_Leah_Huynh</td>\n",
       "      <td>1809.04</td>\n",
       "      <td>1</td>\n",
       "      <td>1946</td>\n",
       "      <td>Lost</td>\n",
       "    </tr>\n",
       "    <tr>\n",
       "      <th>1181</th>\n",
       "      <td>CLT_Elizabeth_Hooper</td>\n",
       "      <td>562.28</td>\n",
       "      <td>1</td>\n",
       "      <td>2109</td>\n",
       "      <td>At Risk</td>\n",
       "    </tr>\n",
       "    <tr>\n",
       "      <th>1182</th>\n",
       "      <td>CLT_Matthew_Young</td>\n",
       "      <td>331.23</td>\n",
       "      <td>1</td>\n",
       "      <td>1589</td>\n",
       "      <td>Champions</td>\n",
       "    </tr>\n",
       "  </tbody>\n",
       "</table>\n",
       "<p>1183 rows × 5 columns</p>\n",
       "</div>"
      ],
      "text/plain": [
       "                 id_client  total_depense  nombre_de_commande  \\\n",
       "0         CLT_James_Nguyen         960.10                   1   \n",
       "1          CLT_Jacob_Smith        2496.06                   4   \n",
       "2          CLT_Jacob_Smith          46.48                   4   \n",
       "3          CLT_Jacob_Smith        1244.10                   4   \n",
       "4          CLT_Jacob_Smith        1374.24                   4   \n",
       "...                    ...            ...                 ...   \n",
       "1178   CLT_Jordan_Robinson        1671.95                   1   \n",
       "1179    CLT_Jennifer_Davis         525.60                   1   \n",
       "1180        CLT_Leah_Huynh        1809.04                   1   \n",
       "1181  CLT_Elizabeth_Hooper         562.28                   1   \n",
       "1182     CLT_Matthew_Young         331.23                   1   \n",
       "\n",
       "      jours_depuis_derniere_facture         segment  \n",
       "0                              2078         At Risk  \n",
       "1                              1508       Champions  \n",
       "2                              1508       Champions  \n",
       "3                              1508       Champions  \n",
       "4                              1508       Champions  \n",
       "...                             ...             ...  \n",
       "1178                           2289            Lost  \n",
       "1179                           1898  Need Attention  \n",
       "1180                           1946            Lost  \n",
       "1181                           2109         At Risk  \n",
       "1182                           1589       Champions  \n",
       "\n",
       "[1183 rows x 5 columns]"
      ]
     },
     "execution_count": 63,
     "metadata": {},
     "output_type": "execute_result"
    }
   ],
   "source": [
    "df[[\"id_client\", \"total_depense\", \"nombre_de_commande\", \"jours_depuis_derniere_facture\", \"segment\"]]"
   ]
  },
  {
   "cell_type": "code",
   "execution_count": 64,
   "metadata": {},
   "outputs": [
    {
     "data": {
      "text/plain": [
       "segment\n",
       "Champions           550\n",
       "Loyal               225\n",
       "Cannot Lose Them    202\n",
       "Lost                 88\n",
       "At Risk              59\n",
       "Need Attention       36\n",
       "New                   9\n",
       "Promising             7\n",
       "About to Sleep        7\n",
       "Name: count, dtype: int64"
      ]
     },
     "execution_count": 64,
     "metadata": {},
     "output_type": "execute_result"
    }
   ],
   "source": [
    "df[\"segment\"].value_counts()"
   ]
  },
  {
   "cell_type": "markdown",
   "metadata": {},
   "source": [
    "# Clustering"
   ]
  },
  {
   "cell_type": "markdown",
   "metadata": {},
   "source": [
    "## On ajoute l'âge des clients"
   ]
  },
  {
   "cell_type": "code",
   "execution_count": 65,
   "metadata": {},
   "outputs": [
    {
     "data": {
      "text/html": [
       "<div>\n",
       "<style scoped>\n",
       "    .dataframe tbody tr th:only-of-type {\n",
       "        vertical-align: middle;\n",
       "    }\n",
       "\n",
       "    .dataframe tbody tr th {\n",
       "        vertical-align: top;\n",
       "    }\n",
       "\n",
       "    .dataframe thead th {\n",
       "        text-align: right;\n",
       "    }\n",
       "</style>\n",
       "<table border=\"1\" class=\"dataframe\">\n",
       "  <thead>\n",
       "    <tr style=\"text-align: right;\">\n",
       "      <th></th>\n",
       "      <th>id_client</th>\n",
       "      <th>age</th>\n",
       "    </tr>\n",
       "  </thead>\n",
       "  <tbody>\n",
       "    <tr>\n",
       "      <th>0</th>\n",
       "      <td>CLT_Carol_Potter</td>\n",
       "      <td>25</td>\n",
       "    </tr>\n",
       "    <tr>\n",
       "      <th>1</th>\n",
       "      <td>CLT_Samuel_Coleman</td>\n",
       "      <td>25</td>\n",
       "    </tr>\n",
       "    <tr>\n",
       "      <th>2</th>\n",
       "      <td>CLT_Richard_Dunn</td>\n",
       "      <td>35</td>\n",
       "    </tr>\n",
       "    <tr>\n",
       "      <th>3</th>\n",
       "      <td>CLT_Mario_Stout</td>\n",
       "      <td>25</td>\n",
       "    </tr>\n",
       "    <tr>\n",
       "      <th>4</th>\n",
       "      <td>CLT_Rachel_Ramirez</td>\n",
       "      <td>35</td>\n",
       "    </tr>\n",
       "    <tr>\n",
       "      <th>...</th>\n",
       "      <td>...</td>\n",
       "      <td>...</td>\n",
       "    </tr>\n",
       "    <tr>\n",
       "      <th>922</th>\n",
       "      <td>CLT_Vanessa_Johnston</td>\n",
       "      <td>25</td>\n",
       "    </tr>\n",
       "    <tr>\n",
       "      <th>923</th>\n",
       "      <td>CLT_Monique_Williams</td>\n",
       "      <td>35</td>\n",
       "    </tr>\n",
       "    <tr>\n",
       "      <th>924</th>\n",
       "      <td>CLT_Bradley_Ramsey</td>\n",
       "      <td>35</td>\n",
       "    </tr>\n",
       "    <tr>\n",
       "      <th>925</th>\n",
       "      <td>CLT_Megan_Blanchard</td>\n",
       "      <td>35</td>\n",
       "    </tr>\n",
       "    <tr>\n",
       "      <th>926</th>\n",
       "      <td>CLT_Briana_Ortiz</td>\n",
       "      <td>35</td>\n",
       "    </tr>\n",
       "  </tbody>\n",
       "</table>\n",
       "<p>927 rows × 2 columns</p>\n",
       "</div>"
      ],
      "text/plain": [
       "                id_client  age\n",
       "0        CLT_Carol_Potter   25\n",
       "1      CLT_Samuel_Coleman   25\n",
       "2        CLT_Richard_Dunn   35\n",
       "3         CLT_Mario_Stout   25\n",
       "4      CLT_Rachel_Ramirez   35\n",
       "..                    ...  ...\n",
       "922  CLT_Vanessa_Johnston   25\n",
       "923  CLT_Monique_Williams   35\n",
       "924    CLT_Bradley_Ramsey   35\n",
       "925   CLT_Megan_Blanchard   35\n",
       "926      CLT_Briana_Ortiz   35\n",
       "\n",
       "[927 rows x 2 columns]"
      ]
     },
     "execution_count": 65,
     "metadata": {},
     "output_type": "execute_result"
    }
   ],
   "source": [
    "with SessionLocal() as session:\n",
    "    query = (\n",
    "        session.query(\n",
    "            Client.id_client,\n",
    "            Client.birthdate\n",
    "        )\n",
    "    )\n",
    "    result = query.all()\n",
    "    df_age = pd.DataFrame(result, columns=['id_client', 'birthdate'])\n",
    "\n",
    "now = datetime.now()\n",
    "df_age['age'] = df_age['birthdate'].apply(lambda x: now.year - x.year - ((now.month, now.day) < (x.month, x.day)))\n",
    "\n",
    "df_age = df_age.drop('birthdate', axis=1)\n",
    "\n",
    "df_age"
   ]
  },
  {
   "cell_type": "markdown",
   "metadata": {},
   "source": [
    "## On applique le k mean"
   ]
  },
  {
   "cell_type": "code",
   "execution_count": 66,
   "metadata": {},
   "outputs": [
    {
     "data": {
      "text/html": [
       "<div>\n",
       "<style scoped>\n",
       "    .dataframe tbody tr th:only-of-type {\n",
       "        vertical-align: middle;\n",
       "    }\n",
       "\n",
       "    .dataframe tbody tr th {\n",
       "        vertical-align: top;\n",
       "    }\n",
       "\n",
       "    .dataframe thead th {\n",
       "        text-align: right;\n",
       "    }\n",
       "</style>\n",
       "<table border=\"1\" class=\"dataframe\">\n",
       "  <thead>\n",
       "    <tr style=\"text-align: right;\">\n",
       "      <th></th>\n",
       "      <th>id_client</th>\n",
       "      <th>total_depense</th>\n",
       "      <th>score_depense</th>\n",
       "      <th>nombre_de_commande</th>\n",
       "      <th>score_frequence</th>\n",
       "      <th>jours_depuis_derniere_facture</th>\n",
       "      <th>score_recence</th>\n",
       "      <th>segment</th>\n",
       "      <th>segment_code</th>\n",
       "      <th>age</th>\n",
       "    </tr>\n",
       "  </thead>\n",
       "  <tbody>\n",
       "    <tr>\n",
       "      <th>0</th>\n",
       "      <td>CLT_James_Nguyen</td>\n",
       "      <td>960.10</td>\n",
       "      <td>3</td>\n",
       "      <td>1</td>\n",
       "      <td>1</td>\n",
       "      <td>2078</td>\n",
       "      <td>2</td>\n",
       "      <td>At Risk</td>\n",
       "      <td>NaN</td>\n",
       "      <td>35</td>\n",
       "    </tr>\n",
       "    <tr>\n",
       "      <th>1</th>\n",
       "      <td>CLT_Jacob_Smith</td>\n",
       "      <td>2496.06</td>\n",
       "      <td>1</td>\n",
       "      <td>4</td>\n",
       "      <td>5</td>\n",
       "      <td>1508</td>\n",
       "      <td>4</td>\n",
       "      <td>Champions</td>\n",
       "      <td>3.0</td>\n",
       "      <td>30</td>\n",
       "    </tr>\n",
       "    <tr>\n",
       "      <th>2</th>\n",
       "      <td>CLT_Jacob_Smith</td>\n",
       "      <td>46.48</td>\n",
       "      <td>5</td>\n",
       "      <td>4</td>\n",
       "      <td>5</td>\n",
       "      <td>1508</td>\n",
       "      <td>4</td>\n",
       "      <td>Champions</td>\n",
       "      <td>3.0</td>\n",
       "      <td>30</td>\n",
       "    </tr>\n",
       "    <tr>\n",
       "      <th>3</th>\n",
       "      <td>CLT_Jacob_Smith</td>\n",
       "      <td>1244.10</td>\n",
       "      <td>2</td>\n",
       "      <td>4</td>\n",
       "      <td>5</td>\n",
       "      <td>1508</td>\n",
       "      <td>4</td>\n",
       "      <td>Champions</td>\n",
       "      <td>3.0</td>\n",
       "      <td>30</td>\n",
       "    </tr>\n",
       "    <tr>\n",
       "      <th>4</th>\n",
       "      <td>CLT_Jacob_Smith</td>\n",
       "      <td>1374.24</td>\n",
       "      <td>2</td>\n",
       "      <td>4</td>\n",
       "      <td>5</td>\n",
       "      <td>1508</td>\n",
       "      <td>4</td>\n",
       "      <td>Champions</td>\n",
       "      <td>3.0</td>\n",
       "      <td>30</td>\n",
       "    </tr>\n",
       "    <tr>\n",
       "      <th>...</th>\n",
       "      <td>...</td>\n",
       "      <td>...</td>\n",
       "      <td>...</td>\n",
       "      <td>...</td>\n",
       "      <td>...</td>\n",
       "      <td>...</td>\n",
       "      <td>...</td>\n",
       "      <td>...</td>\n",
       "      <td>...</td>\n",
       "      <td>...</td>\n",
       "    </tr>\n",
       "    <tr>\n",
       "      <th>1178</th>\n",
       "      <td>CLT_Jordan_Robinson</td>\n",
       "      <td>1671.95</td>\n",
       "      <td>2</td>\n",
       "      <td>1</td>\n",
       "      <td>1</td>\n",
       "      <td>2289</td>\n",
       "      <td>1</td>\n",
       "      <td>Lost</td>\n",
       "      <td>4.0</td>\n",
       "      <td>25</td>\n",
       "    </tr>\n",
       "    <tr>\n",
       "      <th>1179</th>\n",
       "      <td>CLT_Jennifer_Davis</td>\n",
       "      <td>525.60</td>\n",
       "      <td>3</td>\n",
       "      <td>1</td>\n",
       "      <td>1</td>\n",
       "      <td>1898</td>\n",
       "      <td>3</td>\n",
       "      <td>Need Attention</td>\n",
       "      <td>NaN</td>\n",
       "      <td>25</td>\n",
       "    </tr>\n",
       "    <tr>\n",
       "      <th>1180</th>\n",
       "      <td>CLT_Leah_Huynh</td>\n",
       "      <td>1809.04</td>\n",
       "      <td>2</td>\n",
       "      <td>1</td>\n",
       "      <td>1</td>\n",
       "      <td>1946</td>\n",
       "      <td>2</td>\n",
       "      <td>Lost</td>\n",
       "      <td>4.0</td>\n",
       "      <td>30</td>\n",
       "    </tr>\n",
       "    <tr>\n",
       "      <th>1181</th>\n",
       "      <td>CLT_Elizabeth_Hooper</td>\n",
       "      <td>562.28</td>\n",
       "      <td>3</td>\n",
       "      <td>1</td>\n",
       "      <td>1</td>\n",
       "      <td>2109</td>\n",
       "      <td>2</td>\n",
       "      <td>At Risk</td>\n",
       "      <td>NaN</td>\n",
       "      <td>30</td>\n",
       "    </tr>\n",
       "    <tr>\n",
       "      <th>1182</th>\n",
       "      <td>CLT_Matthew_Young</td>\n",
       "      <td>331.23</td>\n",
       "      <td>4</td>\n",
       "      <td>1</td>\n",
       "      <td>1</td>\n",
       "      <td>1589</td>\n",
       "      <td>4</td>\n",
       "      <td>Champions</td>\n",
       "      <td>3.0</td>\n",
       "      <td>25</td>\n",
       "    </tr>\n",
       "  </tbody>\n",
       "</table>\n",
       "<p>1183 rows × 10 columns</p>\n",
       "</div>"
      ],
      "text/plain": [
       "                 id_client  total_depense score_depense  nombre_de_commande  \\\n",
       "0         CLT_James_Nguyen         960.10             3                   1   \n",
       "1          CLT_Jacob_Smith        2496.06             1                   4   \n",
       "2          CLT_Jacob_Smith          46.48             5                   4   \n",
       "3          CLT_Jacob_Smith        1244.10             2                   4   \n",
       "4          CLT_Jacob_Smith        1374.24             2                   4   \n",
       "...                    ...            ...           ...                 ...   \n",
       "1178   CLT_Jordan_Robinson        1671.95             2                   1   \n",
       "1179    CLT_Jennifer_Davis         525.60             3                   1   \n",
       "1180        CLT_Leah_Huynh        1809.04             2                   1   \n",
       "1181  CLT_Elizabeth_Hooper         562.28             3                   1   \n",
       "1182     CLT_Matthew_Young         331.23             4                   1   \n",
       "\n",
       "      score_frequence  jours_depuis_derniere_facture score_recence  \\\n",
       "0                   1                           2078             2   \n",
       "1                   5                           1508             4   \n",
       "2                   5                           1508             4   \n",
       "3                   5                           1508             4   \n",
       "4                   5                           1508             4   \n",
       "...               ...                            ...           ...   \n",
       "1178                1                           2289             1   \n",
       "1179                1                           1898             3   \n",
       "1180                1                           1946             2   \n",
       "1181                1                           2109             2   \n",
       "1182                1                           1589             4   \n",
       "\n",
       "             segment  segment_code  age  \n",
       "0            At Risk           NaN   35  \n",
       "1          Champions           3.0   30  \n",
       "2          Champions           3.0   30  \n",
       "3          Champions           3.0   30  \n",
       "4          Champions           3.0   30  \n",
       "...              ...           ...  ...  \n",
       "1178            Lost           4.0   25  \n",
       "1179  Need Attention           NaN   25  \n",
       "1180            Lost           4.0   30  \n",
       "1181         At Risk           NaN   30  \n",
       "1182       Champions           3.0   25  \n",
       "\n",
       "[1183 rows x 10 columns]"
      ]
     },
     "execution_count": 66,
     "metadata": {},
     "output_type": "execute_result"
    }
   ],
   "source": [
    "df = df.merge(df_age, how=\"left\")\n",
    "df"
   ]
  },
  {
   "cell_type": "code",
   "execution_count": 70,
   "metadata": {},
   "outputs": [
    {
     "data": {
      "image/png": "[encoded data removed]",
      "text/plain": [
       "<Figure size 640x480 with 1 Axes>"
      ]
     },
     "metadata": {},
     "output_type": "display_data"
    }
   ],
   "source": [
    "\n",
    "X = df[['total_depense', 'nombre_de_commande', 'jours_depuis_derniere_facture', 'age']]\n",
    "X = X.dropna()\n",
    "scaler = StandardScaler()\n",
    "X_scaled = scaler.fit_transform(X)\n",
    "inertia = []\n",
    "for i in range(1, 11):\n",
    "    kmeans = KMeans(n_clusters=i, \n",
    "                    init='k-means++', \n",
    "                    max_iter=300, \n",
    "                    n_init=10, \n",
    "                    random_state=0) \n",
    "    kmeans.fit(X_scaled)\n",
    "    inertia.append(kmeans.inertia_)\n",
    "\n",
    "plt.plot(range(1, 11), inertia)\n",
    "plt.title('Méthode du coude pour déterminer le nombre optimal de clusters')\n",
    "plt.xlabel('Nombre de clusters')\n",
    "plt.ylabel('Inertie')\n",
    "plt.show()\n"
   ]
  },
  {
   "cell_type": "code",
   "execution_count": 75,
   "metadata": {},
   "outputs": [
    {
     "data": {
      "text/html": [
       "<div>\n",
       "<style scoped>\n",
       "    .dataframe tbody tr th:only-of-type {\n",
       "        vertical-align: middle;\n",
       "    }\n",
       "\n",
       "    .dataframe tbody tr th {\n",
       "        vertical-align: top;\n",
       "    }\n",
       "\n",
       "    .dataframe thead th {\n",
       "        text-align: right;\n",
       "    }\n",
       "</style>\n",
       "<table border=\"1\" class=\"dataframe\">\n",
       "  <thead>\n",
       "    <tr style=\"text-align: right;\">\n",
       "      <th></th>\n",
       "      <th>total_depense</th>\n",
       "      <th>nombre_de_commande</th>\n",
       "      <th>jours_depuis_derniere_facture</th>\n",
       "      <th>age</th>\n",
       "      <th>id_client</th>\n",
       "    </tr>\n",
       "    <tr>\n",
       "      <th>cluster</th>\n",
       "      <th></th>\n",
       "      <th></th>\n",
       "      <th></th>\n",
       "      <th></th>\n",
       "      <th></th>\n",
       "    </tr>\n",
       "  </thead>\n",
       "  <tbody>\n",
       "    <tr>\n",
       "      <th>0</th>\n",
       "      <td>1103.642701</td>\n",
       "      <td>1.675241</td>\n",
       "      <td>1932.176849</td>\n",
       "      <td>27.967846</td>\n",
       "      <td>311</td>\n",
       "    </tr>\n",
       "    <tr>\n",
       "      <th>1</th>\n",
       "      <td>997.520792</td>\n",
       "      <td>3.579167</td>\n",
       "      <td>1374.150000</td>\n",
       "      <td>39.904167</td>\n",
       "      <td>240</td>\n",
       "    </tr>\n",
       "    <tr>\n",
       "      <th>2</th>\n",
       "      <td>8245.812394</td>\n",
       "      <td>2.577465</td>\n",
       "      <td>1830.450704</td>\n",
       "      <td>32.309859</td>\n",
       "      <td>71</td>\n",
       "    </tr>\n",
       "    <tr>\n",
       "      <th>3</th>\n",
       "      <td>965.031086</td>\n",
       "      <td>3.666667</td>\n",
       "      <td>1481.329588</td>\n",
       "      <td>29.842697</td>\n",
       "      <td>267</td>\n",
       "    </tr>\n",
       "    <tr>\n",
       "      <th>4</th>\n",
       "      <td>1052.764932</td>\n",
       "      <td>1.778912</td>\n",
       "      <td>1919.275510</td>\n",
       "      <td>38.384354</td>\n",
       "      <td>294</td>\n",
       "    </tr>\n",
       "  </tbody>\n",
       "</table>\n",
       "</div>"
      ],
      "text/plain": [
       "         total_depense  nombre_de_commande  jours_depuis_derniere_facture  \\\n",
       "cluster                                                                     \n",
       "0          1103.642701            1.675241                    1932.176849   \n",
       "1           997.520792            3.579167                    1374.150000   \n",
       "2          8245.812394            2.577465                    1830.450704   \n",
       "3           965.031086            3.666667                    1481.329588   \n",
       "4          1052.764932            1.778912                    1919.275510   \n",
       "\n",
       "               age  id_client  \n",
       "cluster                        \n",
       "0        27.967846        311  \n",
       "1        39.904167        240  \n",
       "2        32.309859         71  \n",
       "3        29.842697        267  \n",
       "4        38.384354        294  "
      ]
     },
     "metadata": {},
     "output_type": "display_data"
    }
   ],
   "source": [
    "\n",
    "n_clusters = 5\n",
    "kmeans = KMeans(n_clusters=n_clusters, \n",
    "                init='k-means++', \n",
    "                max_iter=300, \n",
    "                n_init=10, \n",
    "                random_state=0) \n",
    "kmeans.fit(X_scaled)\n",
    "df['cluster'] = kmeans.labels_\n",
    "display(df.groupby('cluster').agg({\n",
    "    'total_depense': 'mean',\n",
    "    'nombre_de_commande': 'mean',\n",
    "    'jours_depuis_derniere_facture': 'mean',\n",
    "    'age': 'mean',\n",
    "    'id_client': 'count'\n",
    "}))"
   ]
  },
  {
   "cell_type": "code",
   "execution_count": 72,
   "metadata": {},
   "outputs": [
    {
     "data": {
      "application/vnd.plotly.v1+json": {
       "config": {
        "plotlyServerURL": "https://plot.ly"
       },
       "data": [
        {
         "marker": {
          "color": [
           "skyblue",
           "gold",
           "gold",
           "gold",
           "gold",
           "coral",
           "coral",
           "coral",
           "coral",
           "firebrick",
           "forestgreen",
           "firebrick",
           "forestgreen",
           "coral",
           "coral",
           "coral",
           "coral",
           "gold",
           "gold",
           "gold",
           "gold",
           "gold",
           "firebrick",
           "gold",
           "skyblue",
           "skyblue",
           "skyblue",
           "gold",
           "gold",
           "gold",
           "gold",
           "gold",
           "gold",
           "gold",
           "gold",
           "gold",
           "gold",
           "gold",
           "gold",
           "gold",
           "gold",
           "forestgreen",
           "gold",
           "gold",
           "gold",
           "gold",
           "skyblue",
           "skyblue",
           "skyblue",
           "gold",
           "gold",
           "gold",
           "forestgreen",
           "forestgreen",
           "coral",
           "coral",
           "coral",
           "skyblue",
           "coral",
           "coral",
           "coral",
           "forestgreen",
           "forestgreen",
           "forestgreen",
           "forestgreen",
           "forestgreen",
           "skyblue",
           "skyblue",
           "skyblue",
           "skyblue",
           "gold",
           "gold",
           "skyblue",
           "gold",
           "gold",
           "forestgreen",
           "forestgreen",
           "skyblue",
           "coral",
           "coral",
           "coral",
           "forestgreen",
           "forestgreen",
           "firebrick",
           "skyblue",
           "firebrick",
           "skyblue",
           "coral",
           "coral",
           "coral",
           "coral",
           "forestgreen",
           "forestgreen",
           "firebrick",
           "gold",
           "gold",
           "gold",
           "gold",
           "gold",
           "gold",
           "gold",
           "coral",
           "coral",
           "firebrick",
           "forestgreen",
           "skyblue",
           "skyblue",
           "skyblue",
           "skyblue",
           "skyblue",
           "gold",
           "gold",
           "gold",
           "gold",
           "skyblue",
           "gold",
           "gold",
           "gold",
           "gold",
           "forestgreen",
           "forestgreen",
           "forestgreen",
           "forestgreen",
           "forestgreen",
           "forestgreen",
           "coral",
           "firebrick",
           "coral",
           "coral",
           "gold",
           "firebrick",
           "gold",
           "coral",
           "coral",
           "coral",
           "coral",
           "coral",
           "skyblue",
           "skyblue",
           "forestgreen",
           "forestgreen",
           "forestgreen",
           "firebrick",
           "gold",
           "gold",
           "gold",
           "gold",
           "skyblue",
           "skyblue",
           "skyblue",
           "skyblue",
           "firebrick",
           "gold",
           "gold",
           "gold",
           "gold",
           "coral",
           "coral",
           "coral",
           "coral",
           "coral",
           "coral",
           "coral",
           "coral",
           "coral",
           "coral",
           "firebrick",
           "coral",
           "skyblue",
           "skyblue",
           "forestgreen",
           "coral",
           "coral",
           "coral",
           "coral",
           "coral",
           "coral",
           "coral",
           "coral",
           "coral",
           "coral",
           "forestgreen",
           "forestgreen",
           "forestgreen",
           "forestgreen",
           "forestgreen",
           "coral",
           "coral",
           "coral",
           "skyblue",
           "skyblue",
           "gold",
           "gold",
           "gold",
           "gold",
           "forestgreen",
           "firebrick",
           "gold",
           "firebrick",
           "gold",
           "gold",
           "gold",
           "gold",
           "gold",
           "forestgreen",
           "skyblue",
           "coral",
           "coral",
           "coral",
           "coral",
           "coral",
           "coral",
           "coral",
           "coral",
           "coral",
           "coral",
           "forestgreen",
           "firebrick",
           "forestgreen",
           "coral",
           "coral",
           "skyblue",
           "skyblue",
           "forestgreen",
           "forestgreen",
           "forestgreen",
           "skyblue",
           "skyblue",
           "skyblue",
           "skyblue",
           "skyblue",
           "skyblue",
           "skyblue",
           "skyblue",
           "forestgreen",
           "forestgreen",
           "firebrick",
           "gold",
           "gold",
           "coral",
           "coral",
           "coral",
           "skyblue",
           "forestgreen",
           "forestgreen",
           "coral",
           "coral",
           "coral",
           "coral",
           "coral",
           "coral",
           "coral",
           "forestgreen",
           "coral",
           "coral",
           "coral",
           "skyblue",
           "skyblue",
           "skyblue",
           "forestgreen",
           "gold",
           "gold",
           "gold",
           "gold",
           "gold",
           "gold",
           "gold",
           "coral",
           "coral",
           "coral",
           "coral",
           "coral",
           "coral",
           "coral",
           "coral",
           "coral",
           "skyblue",
           "forestgreen",
           "forestgreen",
           "skyblue",
           "skyblue",
           "skyblue",
           "forestgreen",
           "forestgreen",
           "gold",
           "gold",
           "gold",
           "gold",
           "gold",
           "gold",
           "coral",
           "coral",
           "coral",
           "coral",
           "coral",
           "forestgreen",
           "forestgreen",
           "coral",
           "coral",
           "skyblue",
           "skyblue",
           "skyblue",
           "firebrick",
           "coral",
           "coral",
           "forestgreen",
           "forestgreen",
           "forestgreen",
           "forestgreen",
           "forestgreen",
           "firebrick",
           "skyblue",
           "skyblue",
           "forestgreen",
           "firebrick",
           "skyblue",
           "skyblue",
           "gold",
           "gold",
           "gold",
           "gold",
           "skyblue",
           "coral",
           "coral",
           "coral",
           "coral",
           "gold",
           "gold",
           "gold",
           "forestgreen",
           "forestgreen",
           "forestgreen",
           "coral",
           "coral",
           "coral",
           "coral",
           "forestgreen",
           "forestgreen",
           "firebrick",
           "forestgreen",
           "forestgreen",
           "forestgreen",
           "skyblue",
           "skyblue",
           "skyblue",
           "skyblue",
           "gold",
           "gold",
           "gold",
           "gold",
           "gold",
           "gold",
           "gold",
           "gold",
           "skyblue",
           "skyblue",
           "skyblue",
           "skyblue",
           "skyblue",
           "skyblue",
           "skyblue",
           "skyblue",
           "skyblue",
           "skyblue",
           "coral",
           "coral",
           "firebrick",
           "coral",
           "gold",
           "gold",
           "gold",
           "forestgreen",
           "forestgreen",
           "firebrick",
           "coral",
           "coral",
           "coral",
           "coral",
           "coral",
           "coral",
           "coral",
           "firebrick",
           "skyblue",
           "skyblue",
           "skyblue",
           "coral",
           "coral",
           "coral",
           "gold",
           "gold",
           "gold",
           "forestgreen",
           "coral",
           "coral",
           "forestgreen",
           "firebrick",
           "gold",
           "gold",
           "gold",
           "forestgreen",
           "coral",
           "coral",
           "coral",
           "forestgreen",
           "forestgreen",
           "skyblue",
           "skyblue",
           "skyblue",
           "gold",
           "gold",
           "gold",
           "gold",
           "skyblue",
           "forestgreen",
           "firebrick",
           "skyblue",
           "skyblue",
           "gold",
           "gold",
           "gold",
           "gold",
           "gold",
           "skyblue",
           "gold",
           "gold",
           "firebrick",
           "coral",
           "coral",
           "coral",
           "firebrick",
           "forestgreen",
           "forestgreen",
           "gold",
           "gold",
           "gold",
           "skyblue",
           "skyblue",
           "gold",
           "skyblue",
           "skyblue",
           "skyblue",
           "gold",
           "gold",
           "gold",
           "gold",
           "gold",
           "gold",
           "gold",
           "gold",
           "gold",
           "gold",
           "gold",
           "gold",
           "firebrick",
           "coral",
           "coral",
           "coral",
           "firebrick",
           "forestgreen",
           "forestgreen",
           "skyblue",
           "firebrick",
           "skyblue",
           "skyblue",
           "forestgreen",
           "forestgreen",
           "forestgreen",
           "skyblue",
           "skyblue",
           "forestgreen",
           "forestgreen",
           "forestgreen",
           "forestgreen",
           "firebrick",
           "skyblue",
           "skyblue",
           "forestgreen",
           "forestgreen",
           "forestgreen",
           "skyblue",
           "skyblue",
           "forestgreen",
           "forestgreen",
           "forestgreen",
           "forestgreen",
           "forestgreen",
           "forestgreen",
           "forestgreen",
           "forestgreen",
           "forestgreen",
           "forestgreen",
           "forestgreen",
           "forestgreen",
           "coral",
           "coral",
           "coral",
           "coral",
           "skyblue",
           "coral",
           "coral",
           "coral",
           "gold",
           "gold",
           "gold",
           "coral",
           "coral",
           "coral",
           "gold",
           "gold",
           "gold",
           "gold",
           "gold",
           "gold",
           "coral",
           "coral",
           "skyblue",
           "coral",
           "coral",
           "coral",
           "coral",
           "gold",
           "gold",
           "skyblue",
           "coral",
           "coral",
           "coral",
           "forestgreen",
           "forestgreen",
           "forestgreen",
           "forestgreen",
           "skyblue",
           "skyblue",
           "skyblue",
           "forestgreen",
           "firebrick",
           "coral",
           "coral",
           "coral",
           "skyblue",
           "firebrick",
           "gold",
           "gold",
           "gold",
           "firebrick",
           "coral",
           "coral",
           "coral",
           "coral",
           "skyblue",
           "skyblue",
           "coral",
           "coral",
           "coral",
           "skyblue",
           "forestgreen",
           "forestgreen",
           "gold",
           "gold",
           "gold",
           "gold",
           "coral",
           "coral",
           "coral",
           "coral",
           "coral",
           "skyblue",
           "skyblue",
           "skyblue",
           "forestgreen",
           "forestgreen",
           "forestgreen",
           "coral",
           "coral",
           "coral",
           "coral",
           "coral",
           "skyblue",
           "skyblue",
           "skyblue",
           "gold",
           "firebrick",
           "gold",
           "gold",
           "gold",
           "skyblue",
           "coral",
           "coral",
           "coral",
           "skyblue",
           "skyblue",
           "skyblue",
           "forestgreen",
           "forestgreen",
           "gold",
           "gold",
           "firebrick",
           "gold",
           "gold",
           "gold",
           "skyblue",
           "coral",
           "coral",
           "coral",
           "forestgreen",
           "gold",
           "gold",
           "gold",
           "gold",
           "forestgreen",
           "forestgreen",
           "forestgreen",
           "forestgreen",
           "coral",
           "coral",
           "coral",
           "coral",
           "coral",
           "coral",
           "coral",
           "coral",
           "coral",
           "coral",
           "gold",
           "firebrick",
           "gold",
           "forestgreen",
           "skyblue",
           "skyblue",
           "forestgreen",
           "forestgreen",
           "skyblue",
           "skyblue",
           "skyblue",
           "skyblue",
           "skyblue",
           "gold",
           "gold",
           "skyblue",
           "forestgreen",
           "forestgreen",
           "skyblue",
           "skyblue",
           "forestgreen",
           "gold",
           "gold",
           "gold",
           "forestgreen",
           "skyblue",
           "skyblue",
           "forestgreen",
           "gold",
           "gold",
           "gold",
           "gold",
           "firebrick",
           "skyblue",
           "skyblue",
           "skyblue",
           "skyblue",
           "firebrick",
           "firebrick",
           "forestgreen",
           "forestgreen",
           "coral",
           "coral",
           "skyblue",
           "skyblue",
           "gold",
           "gold",
           "gold",
           "gold",
           "firebrick",
           "forestgreen",
           "forestgreen",
           "forestgreen",
           "coral",
           "coral",
           "firebrick",
           "forestgreen",
           "forestgreen",
           "gold",
           "gold",
           "gold",
           "forestgreen",
           "forestgreen",
           "skyblue",
           "forestgreen",
           "gold",
           "gold",
           "gold",
           "gold",
           "gold",
           "gold",
           "gold",
           "skyblue",
           "skyblue",
           "skyblue",
           "skyblue",
           "skyblue",
           "skyblue",
           "forestgreen",
           "forestgreen",
           "gold",
           "gold",
           "gold",
           "skyblue",
           "skyblue",
           "forestgreen",
           "forestgreen",
           "forestgreen",
           "forestgreen",
           "firebrick",
           "forestgreen",
           "forestgreen",
           "forestgreen",
           "forestgreen",
           "gold",
           "firebrick",
           "coral",
           "coral",
           "coral",
           "coral",
           "forestgreen",
           "skyblue",
           "skyblue",
           "skyblue",
           "skyblue",
           "skyblue",
           "skyblue",
           "skyblue",
           "skyblue",
           "skyblue",
           "skyblue",
           "forestgreen",
           "firebrick",
           "gold",
           "gold",
           "skyblue",
           "gold",
           "gold",
           "gold",
           "gold",
           "forestgreen",
           "forestgreen",
           "forestgreen",
           "coral",
           "coral",
           "coral",
           "coral",
           "forestgreen",
           "forestgreen",
           "forestgreen",
           "forestgreen",
           "skyblue",
           "skyblue",
           "gold",
           "gold",
           "gold",
           "firebrick",
           "skyblue",
           "coral",
           "skyblue",
           "skyblue",
           "forestgreen",
           "forestgreen",
           "skyblue",
           "skyblue",
           "gold",
           "gold",
           "gold",
           "gold",
           "gold",
           "gold",
           "forestgreen",
           "coral",
           "coral",
           "coral",
           "skyblue",
           "skyblue",
           "skyblue",
           "forestgreen",
           "coral",
           "coral",
           "coral",
           "forestgreen",
           "forestgreen",
           "skyblue",
           "skyblue",
           "skyblue",
           "skyblue",
           "forestgreen",
           "forestgreen",
           "forestgreen",
           "skyblue",
           "skyblue",
           "skyblue",
           "skyblue",
           "forestgreen",
           "forestgreen",
           "forestgreen",
           "firebrick",
           "gold",
           "gold",
           "gold",
           "gold",
           "gold",
           "gold",
           "gold",
           "gold",
           "skyblue",
           "forestgreen",
           "forestgreen",
           "gold",
           "gold",
           "gold",
           "skyblue",
           "skyblue",
           "skyblue",
           "firebrick",
           "gold",
           "gold",
           "gold",
           "coral",
           "firebrick",
           "coral",
           "coral",
           "forestgreen",
           "skyblue",
           "forestgreen",
           "skyblue",
           "skyblue",
           "skyblue",
           "skyblue",
           "firebrick",
           "firebrick",
           "forestgreen",
           "forestgreen",
           "forestgreen",
           "forestgreen",
           "forestgreen",
           "forestgreen",
           "forestgreen",
           "forestgreen",
           "skyblue",
           "skyblue",
           "forestgreen",
           "forestgreen",
           "coral",
           "coral",
           "coral",
           "forestgreen",
           "forestgreen",
           "skyblue",
           "skyblue",
           "coral",
           "coral",
           "forestgreen",
           "skyblue",
           "skyblue",
           "skyblue",
           "forestgreen",
           "coral",
           "coral",
           "forestgreen",
           "gold",
           "gold",
           "forestgreen",
           "skyblue",
           "skyblue",
           "firebrick",
           "skyblue",
           "forestgreen",
           "forestgreen",
           "forestgreen",
           "forestgreen",
           "forestgreen",
           "forestgreen",
           "forestgreen",
           "forestgreen",
           "skyblue",
           "forestgreen",
           "forestgreen",
           "forestgreen",
           "forestgreen",
           "firebrick",
           "forestgreen",
           "forestgreen",
           "skyblue",
           "skyblue",
           "forestgreen",
           "forestgreen",
           "forestgreen",
           "skyblue",
           "gold",
           "gold",
           "gold",
           "gold",
           "forestgreen",
           "forestgreen",
           "forestgreen",
           "gold",
           "gold",
           "forestgreen",
           "skyblue",
           "skyblue",
           "forestgreen",
           "skyblue",
           "skyblue",
           "skyblue",
           "gold",
           "gold",
           "skyblue",
           "forestgreen",
           "forestgreen",
           "forestgreen",
           "firebrick",
           "forestgreen",
           "gold",
           "gold",
           "forestgreen",
           "forestgreen",
           "forestgreen",
           "gold",
           "gold",
           "firebrick",
           "forestgreen",
           "forestgreen",
           "skyblue",
           "skyblue",
           "skyblue",
           "forestgreen",
           "skyblue",
           "forestgreen",
           "gold",
           "gold",
           "forestgreen",
           "skyblue",
           "forestgreen",
           "skyblue",
           "gold",
           "firebrick",
           "gold",
           "firebrick",
           "forestgreen",
           "gold",
           "firebrick",
           "gold",
           "gold",
           "gold",
           "forestgreen",
           "forestgreen",
           "forestgreen",
           "forestgreen",
           "forestgreen",
           "firebrick",
           "forestgreen",
           "skyblue",
           "skyblue",
           "firebrick",
           "forestgreen",
           "skyblue",
           "firebrick",
           "forestgreen",
           "skyblue",
           "skyblue",
           "skyblue",
           "skyblue",
           "forestgreen",
           "firebrick",
           "coral",
           "coral",
           "coral",
           "coral",
           "forestgreen",
           "forestgreen",
           "forestgreen",
           "firebrick",
           "skyblue",
           "skyblue",
           "forestgreen",
           "forestgreen",
           "coral",
           "coral",
           "firebrick",
           "forestgreen",
           "forestgreen",
           "forestgreen",
           "skyblue",
           "forestgreen",
           "skyblue",
           "firebrick",
           "forestgreen",
           "forestgreen",
           "skyblue",
           "skyblue",
           "skyblue",
           "forestgreen",
           "skyblue",
           "skyblue",
           "skyblue",
           "skyblue",
           "skyblue",
           "skyblue",
           "skyblue",
           "forestgreen",
           "forestgreen",
           "firebrick",
           "firebrick",
           "coral",
           "coral",
           "coral",
           "coral",
           "coral",
           "coral",
           "forestgreen",
           "forestgreen",
           "skyblue",
           "forestgreen",
           "forestgreen",
           "skyblue",
           "coral",
           "coral",
           "skyblue",
           "gold",
           "gold",
           "skyblue",
           "gold",
           "skyblue",
           "skyblue",
           "skyblue",
           "skyblue",
           "gold",
           "gold",
           "skyblue",
           "skyblue",
           "forestgreen",
           "gold",
           "gold",
           "gold",
           "firebrick",
           "forestgreen",
           "forestgreen",
           "forestgreen",
           "gold",
           "forestgreen",
           "forestgreen",
           "skyblue",
           "skyblue",
           "gold",
           "gold",
           "gold",
           "gold",
           "forestgreen",
           "coral",
           "coral",
           "coral",
           "skyblue",
           "skyblue",
           "gold",
           "gold",
           "forestgreen",
           "forestgreen",
           "forestgreen",
           "forestgreen",
           "skyblue",
           "skyblue",
           "skyblue",
           "forestgreen",
           "skyblue",
           "skyblue",
           "forestgreen",
           "skyblue",
           "skyblue",
           "forestgreen",
           "skyblue",
           "skyblue",
           "skyblue",
           "forestgreen",
           "coral",
           "coral",
           "coral",
           "coral",
           "skyblue",
           "skyblue",
           "forestgreen",
           "forestgreen",
           "skyblue",
           "forestgreen",
           "skyblue",
           "skyblue",
           "forestgreen",
           "forestgreen",
           "forestgreen",
           "forestgreen",
           "skyblue",
           "skyblue",
           "firebrick",
           "coral",
           "coral",
           "forestgreen",
           "forestgreen",
           "forestgreen",
           "forestgreen",
           "skyblue",
           "forestgreen",
           "forestgreen",
           "skyblue",
           "forestgreen",
           "skyblue",
           "forestgreen",
           "forestgreen",
           "skyblue",
           "skyblue",
           "forestgreen",
           "forestgreen",
           "gold",
           "gold",
           "gold",
           "gold",
           "forestgreen",
           "skyblue",
           "forestgreen",
           "forestgreen",
           "forestgreen",
           "skyblue",
           "skyblue",
           "skyblue",
           "skyblue",
           "skyblue",
           "skyblue",
           "skyblue",
           "skyblue",
           "gold",
           "forestgreen",
           "skyblue",
           "forestgreen",
           "skyblue",
           "skyblue",
           "skyblue",
           "forestgreen",
           "skyblue",
           "skyblue",
           "skyblue",
           "skyblue",
           "forestgreen",
           "skyblue",
           "forestgreen",
           "forestgreen",
           "forestgreen",
           "skyblue",
           "forestgreen",
           "skyblue",
           "firebrick",
           "forestgreen",
           "skyblue",
           "forestgreen",
           "skyblue",
           "skyblue",
           "skyblue",
           "forestgreen",
           "skyblue",
           "skyblue",
           "forestgreen",
           "coral",
           "forestgreen",
           "coral",
           "coral",
           "firebrick",
           "forestgreen",
           "forestgreen",
           "forestgreen",
           "forestgreen",
           "forestgreen",
           "skyblue",
           "skyblue",
           "forestgreen",
           "forestgreen",
           "forestgreen",
           "forestgreen",
           "forestgreen",
           "forestgreen",
           "forestgreen",
           "forestgreen"
          ],
          "opacity": 0.8,
          "size": 5
         },
         "mode": "markers",
         "type": "scatter3d",
         "x": {
          "bdata": "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",
          "dtype": "f8"
         },
         "y": {
          "bdata": "AQQEBAQEBAQEAQMDAwQEBAQDAwMEBAQEAgIBAwMDAgIEBAQEBQUFBQUBBAQEBAMDAwMDAwICAwMDAQMDAwICAQICAQMDAwICAQICAgIBAwMDAgIBAwMDBAQEBAECAgQEBAQDAwMCAgICAgIDAwMEBAQEAQQEBAQBAwMDAgIEBAQEAwMDBQUFBQUCAgICAQUFBQUFAgIBAgIEBAQEAwMDBQUFBQUEBAQEAgIBAgIFBQUFBQMDAwICAwMDAwMDAgIEBAQEAQUFBQUFAwMDAQEGBgYGBgYEBAQEAgIBAgICAgMDAwEBAgICAgICAgIDAwMDAwMBAgIDAwMEBAQEAQMDAwMDAwMDAwUFBQUFAwMDAgIEBAQEAQICAwMDAgIGBgYGBgYFBQUFBQICAgICAgEDAwMBAwMDAgICAgICAgIEBAQEAQQEBAQDAwMDAwMEBAQEAwMDAwMDAwMDAQUFBQUFAwMDAgICAgICAwMDAQQEBAQDAwMBAgIDAwMEBAQEAQMDAwMDAwMDAwECAgEEBAQEAQMDAwEBAwMDBAQEBAECAgICBQUFBQUBAgIEBAQEAwMDAwMDAgIBAQICAgIFBQUFBQQEBAQCAgQEBAQCAgECAgEBAgICAgEDAwMBAQEBAgIBAQMDAwMDAwICAgICAgQEBAQBAwMDAwMDAwMDAwMDAwMDAgIBBAQEBAICAQMDAwEDAwMCAgEBAQMDAwEFBQUFBQQEBAQCAgMDAwECAgQEBAQFBQUFBQMDAwICAQUFBQUFAwMDAwMDAgIBAwMDAgIBAgIGBgYGBgYBAwMDAQQEBAQCAgEBBAQEBAYGBgYGBgMDAwECAgEBAQEDAwMCAgECAgICAQMDAwECAgEEBAQEAgICAgICAgIBAgIBAQQEBAQCAgICAgIBAgIDAwMBAQEBAwMDBAQEBAEBAgICAgICAwMDAgIBAQMDAwICAQEBAQQEBAQBAQECAgEDAwMCAgEDAwMBBAQEBAECAgQEBAQCAgICAQEEBAQEAQECAgICAgIGBgYGBgYBAwMDAwMDAQMDAwICAQMDAwEBAQICAQEBAQICAwMDBAQEBAEBAgIDAwMDAwMEBAQEAQMDAwEBAQECAgEDAwMBAgIBAQICAgICAgMDAwEBAgICAgEBAgIBAgIBAgIBAQICAQICAgICAgICAQECAgICAgICAgECAgEEBAQEAgIBAgIBAgIBAgIBAgIBAgICAgECAgEBAQICAQEBAQICAQEBAgIBAQEBAwMDAgIFBQUFBQEBAgIBAQEBAgIBAQEBAgIBAQEBAgICAgICAgICAgEBAgIBAQEBAQECAgICAgIBAQICAgICAgEBAgIBAgIEBAQEAgIBAQEBAgIBAgIBAQMDAwECAgICAQMDAwICAQEBAQEBAQQEBAQBAwMDAQECAgECAgECAgEBAQEBAgIBAQEBAQQEBAQBAQICAQEBAQEBAgIBAQMDAwICAQEBAgIBAQEBAQICAgIEBAQEAQEBAgIBAgIBAgIBAQEBAQEDAwMBAQEBAQEBAQEBAQEBAQEBAQEBAQEBAQEBAQICAQEBAQEBAQEBAQEBAQEBAQ==",
          "dtype": "i1"
         },
         "z": {
          "bdata": "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",
          "dtype": "i2"
         }
        }
       ],
       "layout": {
        "scene": {
         "xaxis": {
          "title": {
           "text": "total_depense"
          }
         },
         "yaxis": {
          "title": {
           "text": "nombre_de_commande"
          }
         },
         "zaxis": {
          "title": {
           "text": "jours_depuis_derniere_facture"
          }
         }
        },
        "template": {
         "data": {
          "bar": [
           {
            "error_x": {
             "color": "#2a3f5f"
            },
            "error_y": {
             "color": "#2a3f5f"
            },
            "marker": {
             "line": {
              "color": "#E5ECF6",
              "width": 0.5
             },
             "pattern": {
              "fillmode": "overlay",
              "size": 10,
              "solidity": 0.2
             }
            },
            "type": "bar"
           }
          ],
          "barpolar": [
           {
            "marker": {
             "line": {
              "color": "#E5ECF6",
              "width": 0.5
             },
             "pattern": {
              "fillmode": "overlay",
              "size": 10,
              "solidity": 0.2
             }
            },
            "type": "barpolar"
           }
          ],
          "carpet": [
           {
            "aaxis": {
             "endlinecolor": "#2a3f5f",
             "gridcolor": "white",
             "linecolor": "white",
             "minorgridcolor": "white",
             "startlinecolor": "#2a3f5f"
            },
            "baxis": {
             "endlinecolor": "#2a3f5f",
             "gridcolor": "white",
             "linecolor": "white",
             "minorgridcolor": "white",
             "startlinecolor": "#2a3f5f"
            },
            "type": "carpet"
           }
          ],
          "choropleth": [
           {
            "colorbar": {
             "outlinewidth": 0,
             "ticks": ""
            },
            "type": "choropleth"
           }
          ],
          "contour": [
           {
            "colorbar": {
             "outlinewidth": 0,
             "ticks": ""
            },
            "colorscale": [
             [
              0,
              "#0d0887"
             ],
             [
              0.1111111111111111,
              "#46039f"
             ],
             [
              0.2222222222222222,
              "#7201a8"
             ],
             [
              0.3333333333333333,
              "#9c179e"
             ],
             [
              0.4444444444444444,
              "#bd3786"
             ],
             [
              0.5555555555555556,
              "#d8576b"
             ],
             [
              0.6666666666666666,
              "#ed7953"
             ],
             [
              0.7777777777777778,
              "#fb9f3a"
             ],
             [
              0.8888888888888888,
              "#fdca26"
             ],
             [
              1,
              "#f0f921"
             ]
            ],
            "type": "contour"
           }
          ],
          "contourcarpet": [
           {
            "colorbar": {
             "outlinewidth": 0,
             "ticks": ""
            },
            "type": "contourcarpet"
           }
          ],
          "heatmap": [
           {
            "colorbar": {
             "outlinewidth": 0,
             "ticks": ""
            },
            "colorscale": [
             [
              0,
              "#0d0887"
             ],
             [
              0.1111111111111111,
              "#46039f"
             ],
             [
              0.2222222222222222,
              "#7201a8"
             ],
             [
              0.3333333333333333,
              "#9c179e"
             ],
             [
              0.4444444444444444,
              "#bd3786"
             ],
             [
              0.5555555555555556,
              "#d8576b"
             ],
             [
              0.6666666666666666,
              "#ed7953"
             ],
             [
              0.7777777777777778,
              "#fb9f3a"
             ],
             [
              0.8888888888888888,
              "#fdca26"
             ],
             [
              1,
              "#f0f921"
             ]
            ],
            "type": "heatmap"
           }
          ],
          "histogram": [
           {
            "marker": {
             "pattern": {
              "fillmode": "overlay",
              "size": 10,
              "solidity": 0.2
             }
            },
            "type": "histogram"
           }
          ],
          "histogram2d": [
           {
            "colorbar": {
             "outlinewidth": 0,
             "ticks": ""
            },
            "colorscale": [
             [
              0,
              "#0d0887"
             ],
             [
              0.1111111111111111,
              "#46039f"
             ],
             [
              0.2222222222222222,
              "#7201a8"
             ],
             [
              0.3333333333333333,
              "#9c179e"
             ],
             [
              0.4444444444444444,
              "#bd3786"
             ],
             [
              0.5555555555555556,
              "#d8576b"
             ],
             [
              0.6666666666666666,
              "#ed7953"
             ],
             [
              0.7777777777777778,
              "#fb9f3a"
             ],
             [
              0.8888888888888888,
              "#fdca26"
             ],
             [
              1,
              "#f0f921"
             ]
            ],
            "type": "histogram2d"
           }
          ],
          "histogram2dcontour": [
           {
            "colorbar": {
             "outlinewidth": 0,
             "ticks": ""
            },
            "colorscale": [
             [
              0,
              "#0d0887"
             ],
             [
              0.1111111111111111,
              "#46039f"
             ],
             [
              0.2222222222222222,
              "#7201a8"
             ],
             [
              0.3333333333333333,
              "#9c179e"
             ],
             [
              0.4444444444444444,
              "#bd3786"
             ],
             [
              0.5555555555555556,
              "#d8576b"
             ],
             [
              0.6666666666666666,
              "#ed7953"
             ],
             [
              0.7777777777777778,
              "#fb9f3a"
             ],
             [
              0.8888888888888888,
              "#fdca26"
             ],
             [
              1,
              "#f0f921"
             ]
            ],
            "type": "histogram2dcontour"
           }
          ],
          "mesh3d": [
           {
            "colorbar": {
             "outlinewidth": 0,
             "ticks": ""
            },
            "type": "mesh3d"
           }
          ],
          "parcoords": [
           {
            "line": {
             "colorbar": {
              "outlinewidth": 0,
              "ticks": ""
             }
            },
            "type": "parcoords"
           }
          ],
          "pie": [
           {
            "automargin": true,
            "type": "pie"
           }
          ],
          "scatter": [
           {
            "fillpattern": {
             "fillmode": "overlay",
             "size": 10,
             "solidity": 0.2
            },
            "type": "scatter"
           }
          ],
          "scatter3d": [
           {
            "line": {
             "colorbar": {
              "outlinewidth": 0,
              "ticks": ""
             }
            },
            "marker": {
             "colorbar": {
              "outlinewidth": 0,
              "ticks": ""
             }
            },
            "type": "scatter3d"
           }
          ],
          "scattercarpet": [
           {
            "marker": {
             "colorbar": {
              "outlinewidth": 0,
              "ticks": ""
             }
            },
            "type": "scattercarpet"
           }
          ],
          "scattergeo": [
           {
            "marker": {
             "colorbar": {
              "outlinewidth": 0,
              "ticks": ""
             }
            },
            "type": "scattergeo"
           }
          ],
          "scattergl": [
           {
            "marker": {
             "colorbar": {
              "outlinewidth": 0,
              "ticks": ""
             }
            },
            "type": "scattergl"
           }
          ],
          "scattermap": [
           {
            "marker": {
             "colorbar": {
              "outlinewidth": 0,
              "ticks": ""
             }
            },
            "type": "scattermap"
           }
          ],
          "scattermapbox": [
           {
            "marker": {
             "colorbar": {
              "outlinewidth": 0,
              "ticks": ""
             }
            },
            "type": "scattermapbox"
           }
          ],
          "scatterpolar": [
           {
            "marker": {
             "colorbar": {
              "outlinewidth": 0,
              "ticks": ""
             }
            },
            "type": "scatterpolar"
           }
          ],
          "scatterpolargl": [
           {
            "marker": {
             "colorbar": {
              "outlinewidth": 0,
              "ticks": ""
             }
            },
            "type": "scatterpolargl"
           }
          ],
          "scatterternary": [
           {
            "marker": {
             "colorbar": {
              "outlinewidth": 0,
              "ticks": ""
             }
            },
            "type": "scatterternary"
           }
          ],
          "surface": [
           {
            "colorbar": {
             "outlinewidth": 0,
             "ticks": ""
            },
            "colorscale": [
             [
              0,
              "#0d0887"
             ],
             [
              0.1111111111111111,
              "#46039f"
             ],
             [
              0.2222222222222222,
              "#7201a8"
             ],
             [
              0.3333333333333333,
              "#9c179e"
             ],
             [
              0.4444444444444444,
              "#bd3786"
             ],
             [
              0.5555555555555556,
              "#d8576b"
             ],
             [
              0.6666666666666666,
              "#ed7953"
             ],
             [
              0.7777777777777778,
              "#fb9f3a"
             ],
             [
              0.8888888888888888,
              "#fdca26"
             ],
             [
              1,
              "#f0f921"
             ]
            ],
            "type": "surface"
           }
          ],
          "table": [
           {
            "cells": {
             "fill": {
              "color": "#EBF0F8"
             },
             "line": {
              "color": "white"
             }
            },
            "header": {
             "fill": {
              "color": "#C8D4E3"
             },
             "line": {
              "color": "white"
             }
            },
            "type": "table"
           }
          ]
         },
         "layout": {
          "annotationdefaults": {
           "arrowcolor": "#2a3f5f",
           "arrowhead": 0,
           "arrowwidth": 1
          },
          "autotypenumbers": "strict",
          "coloraxis": {
           "colorbar": {
            "outlinewidth": 0,
            "ticks": ""
           }
          },
          "colorscale": {
           "diverging": [
            [
             0,
             "#8e0152"
            ],
            [
             0.1,
             "#c51b7d"
            ],
            [
             0.2,
             "#de77ae"
            ],
            [
             0.3,
             "#f1b6da"
            ],
            [
             0.4,
             "#fde0ef"
            ],
            [
             0.5,
             "#f7f7f7"
            ],
            [
             0.6,
             "#e6f5d0"
            ],
            [
             0.7,
             "#b8e186"
            ],
            [
             0.8,
             "#7fbc41"
            ],
            [
             0.9,
             "#4d9221"
            ],
            [
             1,
             "#276419"
            ]
           ],
           "sequential": [
            [
             0,
             "#0d0887"
            ],
            [
             0.1111111111111111,
             "#46039f"
            ],
            [
             0.2222222222222222,
             "#7201a8"
            ],
            [
             0.3333333333333333,
             "#9c179e"
            ],
            [
             0.4444444444444444,
             "#bd3786"
            ],
            [
             0.5555555555555556,
             "#d8576b"
            ],
            [
             0.6666666666666666,
             "#ed7953"
            ],
            [
             0.7777777777777778,
             "#fb9f3a"
            ],
            [
             0.8888888888888888,
             "#fdca26"
            ],
            [
             1,
             "#f0f921"
            ]
           ],
           "sequentialminus": [
            [
             0,
             "#0d0887"
            ],
            [
             0.1111111111111111,
             "#46039f"
            ],
            [
             0.2222222222222222,
             "#7201a8"
            ],
            [
             0.3333333333333333,
             "#9c179e"
            ],
            [
             0.4444444444444444,
             "#bd3786"
            ],
            [
             0.5555555555555556,
             "#d8576b"
            ],
            [
             0.6666666666666666,
             "#ed7953"
            ],
            [
             0.7777777777777778,
             "#fb9f3a"
            ],
            [
             0.8888888888888888,
             "#fdca26"
            ],
            [
             1,
             "#f0f921"
            ]
           ]
          },
          "colorway": [
           "#636efa",
           "#EF553B",
           "#00cc96",
           "#ab63fa",
           "#FFA15A",
           "#19d3f3",
           "#FF6692",
           "#B6E880",
           "#FF97FF",
           "#FECB52"
          ],
          "font": {
           "color": "#2a3f5f"
          },
          "geo": {
           "bgcolor": "white",
           "lakecolor": "white",
           "landcolor": "#E5ECF6",
           "showlakes": true,
           "showland": true,
           "subunitcolor": "white"
          },
          "hoverlabel": {
           "align": "left"
          },
          "hovermode": "closest",
          "mapbox": {
           "style": "light"
          },
          "paper_bgcolor": "white",
          "plot_bgcolor": "#E5ECF6",
          "polar": {
           "angularaxis": {
            "gridcolor": "white",
            "linecolor": "white",
            "ticks": ""
           },
           "bgcolor": "#E5ECF6",
           "radialaxis": {
            "gridcolor": "white",
            "linecolor": "white",
            "ticks": ""
           }
          },
          "scene": {
           "xaxis": {
            "backgroundcolor": "#E5ECF6",
            "gridcolor": "white",
            "gridwidth": 2,
            "linecolor": "white",
            "showbackground": true,
            "ticks": "",
            "zerolinecolor": "white"
           },
           "yaxis": {
            "backgroundcolor": "#E5ECF6",
            "gridcolor": "white",
            "gridwidth": 2,
            "linecolor": "white",
            "showbackground": true,
            "ticks": "",
            "zerolinecolor": "white"
           },
           "zaxis": {
            "backgroundcolor": "#E5ECF6",
            "gridcolor": "white",
            "gridwidth": 2,
            "linecolor": "white",
            "showbackground": true,
            "ticks": "",
            "zerolinecolor": "white"
           }
          },
          "shapedefaults": {
           "line": {
            "color": "#2a3f5f"
           }
          },
          "ternary": {
           "aaxis": {
            "gridcolor": "white",
            "linecolor": "white",
            "ticks": ""
           },
           "baxis": {
            "gridcolor": "white",
            "linecolor": "white",
            "ticks": ""
           },
           "bgcolor": "#E5ECF6",
           "caxis": {
            "gridcolor": "white",
            "linecolor": "white",
            "ticks": ""
           }
          },
          "title": {
           "x": 0.05
          },
          "xaxis": {
           "automargin": true,
           "gridcolor": "white",
           "linecolor": "white",
           "ticks": "",
           "title": {
            "standoff": 15
           },
           "zerolinecolor": "white",
           "zerolinewidth": 2
          },
          "yaxis": {
           "automargin": true,
           "gridcolor": "white",
           "linecolor": "white",
           "ticks": "",
           "title": {
            "standoff": 15
           },
           "zerolinecolor": "white",
           "zerolinewidth": 2
          }
         }
        },
        "title": {
         "text": "Clusters RFM"
        }
       }
      }
     },
     "metadata": {},
     "output_type": "display_data"
    }
   ],
   "source": [
    "segment_colors = {\n",
    "    0: \"forestgreen\",\n",
    "    1: \"coral\",\n",
    "    2: \"firebrick\",\n",
    "    3: \"gold\",\n",
    "    4: \"skyblue\"\n",
    "}\n",
    "\n",
    "colors = df['cluster'].map(segment_colors)\n",
    "\n",
    "fig = go.Figure(data=[go.Scatter3d(\n",
    "    x=df['total_depense'],\n",
    "    y=df['nombre_de_commande'],\n",
    "    z=df['jours_depuis_derniere_facture'],\n",
    "    mode='markers',\n",
    "    marker=dict(\n",
    "        size=5,\n",
    "        color=colors,\n",
    "        opacity=0.8\n",
    "    )\n",
    ")])\n",
    "\n",
    "fig.update_layout(\n",
    "    scene = dict(\n",
    "        xaxis_title='total_depense',\n",
    "        yaxis_title='nombre_de_commande',\n",
    "        zaxis_title='jours_depuis_derniere_facture'\n",
    "    ),\n",
    "    title='Clusters RFM'\n",
    ")\n",
    "\n",
    "fig.show()"
   ]
  }
 ],
 "metadata": {
  "kernelspec": {
   "display_name": "venv (3.12.6)",
   "language": "python",
   "name": "python3"
  },
  "language_info": {
   "codemirror_mode": {
    "name": "ipython",
    "version": 3
   },
   "file_extension": ".py",
   "mimetype": "text/x-python",
   "name": "python",
   "nbconvert_exporter": "python",
   "pygments_lexer": "ipython3",
   "version": "3.12.6"
  }
 },
 "nbformat": 4,
 "nbformat_minor": 2
}
