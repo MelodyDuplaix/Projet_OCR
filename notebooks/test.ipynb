{
 "cells": [
  {
   "cell_type": "markdown",
   "metadata": {},
   "source": [
    "# Avec Tesseract"
   ]
  },
  {
   "cell_type": "code",
   "execution_count": 1,
   "metadata": {},
   "outputs": [],
   "source": [
    "import cv2\n",
    "import pytesseract"
   ]
  },
  {
   "cell_type": "code",
   "execution_count": 2,
   "metadata": {},
   "outputs": [],
   "source": [
    "# Read image\n",
    "easy_text_path = \"data/image_test.png\"\n",
    "easy_img = cv2.imread(easy_text_path)\n"
   ]
  },
  {
   "cell_type": "code",
   "execution_count": 3,
   "metadata": {},
   "outputs": [
    {
     "name": "stdout",
     "output_type": "stream",
     "text": [
      "This text is\n",
      "easy to extract.\n",
      "\n"
     ]
    }
   ],
   "source": [
    "# Convert to text\n",
    "text = pytesseract.image_to_string(easy_img)\n",
    "print(text)\n"
   ]
  },
  {
   "cell_type": "code",
   "execution_count": 4,
   "metadata": {},
   "outputs": [],
   "source": [
    "def image_to_text(input_path):\n",
    "   \"\"\"\n",
    "   A function to read text from images.\n",
    "   \"\"\"\n",
    "   img = cv2.imread(input_path)\n",
    "   text = pytesseract.image_to_string(img)\n",
    "\n",
    "   return text.strip()\n"
   ]
  },
  {
   "cell_type": "code",
   "execution_count": 5,
   "metadata": {},
   "outputs": [
    {
     "name": "stdout",
     "output_type": "stream",
     "text": [
      "Home > Tutorials > Data Engineering\n",
      "\n",
      "Snowflake Tutorial For Beginners:\n",
      "From Architecture to Running\n",
      "Databases\n",
      "\n",
      "Learn the fundamentals of cloud data warehouse management using\n",
      "Snowflake. Snowflake is a cloud-based platform that offers significant\n",
      "benefits for companies wanting to extract as much insight from their data as\n",
      "quickly and efficiently as possible.\n",
      "\n",
      "Jan 2024 - 12 min read\n"
     ]
    }
   ],
   "source": [
    "# Define image path\n",
    "medium_text_path = \"data/image_test2.png\"\n",
    "\n",
    "# Extract text\n",
    "extracted_text = image_to_text(medium_text_path)\n",
    "print(extracted_text)\n"
   ]
  },
  {
   "cell_type": "code",
   "execution_count": 7,
   "metadata": {},
   "outputs": [
    {
     "data": {
      "text/plain": [
       "{'level': [1, 2, 3, 4, 5, 2, 3, 4, 5, 5, 5, 4, 5, 5, 5],\n",
       " 'page_num': [1, 1, 1, 1, 1, 1, 1, 1, 1, 1, 1, 1, 1, 1, 1],\n",
       " 'block_num': [0, 1, 1, 1, 1, 2, 2, 2, 2, 2, 2, 2, 2, 2, 2],\n",
       " 'par_num': [0, 0, 1, 1, 1, 0, 1, 1, 1, 1, 1, 1, 1, 1, 1],\n",
       " 'line_num': [0, 0, 0, 1, 1, 0, 0, 1, 1, 1, 1, 2, 2, 2, 2],\n",
       " 'word_num': [0, 0, 0, 0, 1, 0, 0, 0, 1, 2, 3, 0, 1, 2, 3],\n",
       " 'left': [0, 0, 0, 0, 0, 20, 20, 114, 114, 354, 599, 20, 20, 258, 406],\n",
       " 'top': [0, 0, 0, 0, 0, 34, 34, 34, 34, 39, 34, 138, 150, 138, 138],\n",
       " 'width': [800,\n",
       "  800,\n",
       "  800,\n",
       "  800,\n",
       "  800,\n",
       "  748,\n",
       "  748,\n",
       "  569,\n",
       "  183,\n",
       "  185,\n",
       "  84,\n",
       "  748,\n",
       "  184,\n",
       "  88,\n",
       "  362],\n",
       " 'height': [223, 1, 1, 1, 1, 178, 178, 62, 62, 57, 62, 74, 62, 56, 56],\n",
       " 'conf': [-1, -1, -1, -1, 95, -1, -1, -1, 96, 95, 95, -1, 96, 95, 95],\n",
       " 'text': ['',\n",
       "  '',\n",
       "  '',\n",
       "  '',\n",
       "  ' ',\n",
       "  '',\n",
       "  '',\n",
       "  '',\n",
       "  'This',\n",
       "  'text',\n",
       "  'is',\n",
       "  '',\n",
       "  'easy',\n",
       "  'to',\n",
       "  'extract.']}"
      ]
     },
     "execution_count": 7,
     "metadata": {},
     "output_type": "execute_result"
    }
   ],
   "source": [
    "from pytesseract import Output\n",
    "\n",
    "# Extract recognized data from easy text\n",
    "data = pytesseract.image_to_data(easy_img, output_type=Output.DICT)\n",
    "data"
   ]
  },
  {
   "cell_type": "code",
   "execution_count": 10,
   "metadata": {},
   "outputs": [
    {
     "data": {
      "text/plain": [
       "True"
      ]
     },
     "execution_count": 10,
     "metadata": {},
     "output_type": "execute_result"
    }
   ],
   "source": [
    "from pytesseract import Output\n",
    "\n",
    "# Extract recognized data\n",
    "data = pytesseract.image_to_data(easy_img, output_type=Output.DICT)\n",
    "n_boxes = len(data[\"text\"])\n",
    "\n",
    "for i in range(n_boxes):\n",
    "   if data[\"conf\"][i] == -1:\n",
    "       continue\n",
    "   # Coordinates\n",
    "   x, y = data[\"left\"][i], data[\"top\"][i]\n",
    "   w, h = data[\"width\"][i], data[\"height\"][i]\n",
    "\n",
    "   # Corners\n",
    "   top_left = (x, y)\n",
    "   bottom_right = (x + w, y + h)\n",
    "\n",
    "   # Box params\n",
    "   green = (0, 255, 0)\n",
    "   thickness = 3  # pixels\n",
    "\n",
    "   cv2.rectangle(\n",
    "       img=easy_img, pt1=top_left, pt2=bottom_right, color=green, thickness=thickness\n",
    "   )\n",
    "\n",
    "# Save the image\n",
    "output_image_path = \"data/image_with_boxes.jpg\"\n",
    "cv2.imwrite(output_image_path, easy_img)\n",
    "\n"
   ]
  },
  {
   "cell_type": "code",
   "execution_count": 11,
   "metadata": {},
   "outputs": [],
   "source": [
    "def draw_bounding_boxes(input_img_path, output_path):\n",
    "   img = cv2.imread(input_img_path)\n",
    "\n",
    "   # Extract data\n",
    "   data = pytesseract.image_to_data(img, output_type=Output.DICT)\n",
    "   n_boxes = len(data[\"text\"])\n",
    "\n",
    "   for i in range(n_boxes):\n",
    "       if data[\"conf\"][i] == -1:\n",
    "           continue\n",
    "       # Coordinates\n",
    "       x, y = data[\"left\"][i], data[\"top\"][i]\n",
    "       w, h = data[\"width\"][i], data[\"height\"][i]\n",
    "\n",
    "       # Corners\n",
    "       top_left = (x, y)\n",
    "       bottom_right = (x + w, y + h)\n",
    "\n",
    "       # Box params\n",
    "       green = (0, 255, 0)\n",
    "       thickness = 1  # The function-version uses thinner lines\n",
    "\n",
    "       cv2.rectangle(img, top_left, bottom_right, green, thickness)\n",
    "\n",
    "   # Save the image with boxes\n",
    "   cv2.imwrite(output_path, img)\n"
   ]
  },
  {
   "cell_type": "code",
   "execution_count": 12,
   "metadata": {},
   "outputs": [],
   "source": [
    "output_path = \"data/image_test2.png\"\n",
    "\n",
    "draw_bounding_boxes(medium_text_path, output_path)\n"
   ]
  },
  {
   "cell_type": "markdown",
   "metadata": {},
   "source": [
    "# Avec EasyOCR"
   ]
  },
  {
   "cell_type": "code",
   "execution_count": 3,
   "metadata": {},
   "outputs": [
    {
     "name": "stderr",
     "output_type": "stream",
     "text": [
      "Neither CUDA nor MPS are available - defaulting to CPU. Note: This module is much faster with a GPU.\n"
     ]
    },
    {
     "name": "stdout",
     "output_type": "stream",
     "text": [
      "This\n",
      "text\n",
      "is\n",
      "easy\n",
      "to\n",
      "extract\n"
     ]
    }
   ],
   "source": [
    "import easyocr\n",
    "# Initialize the OCR reader\n",
    "reader = easyocr.Reader(['en'])\n",
    "# Extract text from an image\n",
    "result = reader.readtext('data/image_test.png')\n",
    "# Print the extracted text\n",
    "for detection in result:\n",
    "    print(detection[1])"
   ]
  }
 ],
 "metadata": {
  "kernelspec": {
   "display_name": "venv (3.12.6)",
   "language": "python",
   "name": "python3"
  },
  "language_info": {
   "codemirror_mode": {
    "name": "ipython",
    "version": 3
   },
   "file_extension": ".py",
   "mimetype": "text/x-python",
   "name": "python",
   "nbconvert_exporter": "python",
   "pygments_lexer": "ipython3",
   "version": "3.12.6"
  }
 },
 "nbformat": 4,
 "nbformat_minor": 2
}
